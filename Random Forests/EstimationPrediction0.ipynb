{
 "cells": [
  {
   "attachments": {},
   "cell_type": "markdown",
   "metadata": {},
   "source": [
    "# 1 - Importing Dependecies "
   ]
  },
  {
   "cell_type": "code",
   "execution_count": 1,
   "metadata": {},
   "outputs": [],
   "source": [
    "from matplotlib import pyplot as plt\n",
    "import matplotlib as mpl\n",
    "import tensorflow as tf\n",
    "import pandas as pd\n",
    "import numpy as np \n",
    "import random\n",
    "import cv2\n",
    "import os\n",
    "\n",
    "\n",
    "\n",
    "import time"
   ]
  },
  {
   "attachments": {},
   "cell_type": "markdown",
   "metadata": {},
   "source": [
    "# 1.1 - Data Pipeline "
   ]
  },
  {
   "cell_type": "code",
   "execution_count": 2,
   "metadata": {},
   "outputs": [
    {
     "name": "stdout",
     "output_type": "stream",
     "text": [
      "#1 - Initialzing DataFrame...\n",
      "\n",
      "Numbers of Images succefully imported: 1811\n"
     ]
    }
   ],
   "source": [
    "os.listdir()\n",
    "\n",
    "## Data Directory Path\n",
    "print('#1 - Initialzing DataFrame...\\n')\n",
    "imageID_Path = os.listdir('data/Modern_Contemporary')\n",
    "\n",
    "## Creating data frame based on directory contents \n",
    "imagePath_df = pd.DataFrame({'ID':[n.split('.')[0] for n in imageID_Path],\n",
    "                                'Path':['data/Modern_Contemporary/' + n for n in imageID_Path]})\n",
    "\n",
    "## Extracting features of images from the CSV file\n",
    "csv_dataPath = os.path.join('data/Modern_Contemporary','data.csv')\n",
    "imageFeatures_df = pd.read_csv(csv_dataPath, sep=',')\n",
    "\n",
    "## COnvoerting all values to integer values\n",
    "imagePath_df[\"ID\"]= pd.to_numeric(imagePath_df[\"ID\"],errors='coerce')\n",
    "\n",
    "\n",
    "\n",
    "## Error handling for none JPEG Images\n",
    "\n",
    "for i,row in imagePath_df.iterrows():\n",
    "    picture_Path = row['Path']\n",
    "    # print(picture_Path)\n",
    "    extCheck = len(picture_Path)\n",
    "    path = picture_Path[extCheck-4:]\n",
    "    if (path != 'JPEG'):\n",
    "        imagePath_df.drop(i, inplace=True)\n",
    "\n",
    "\n",
    "print( \"Numbers of Images succefully imported:\",len(imagePath_df))\n",
    "\n",
    "\n"
   ]
  },
  {
   "cell_type": "code",
   "execution_count": 3,
   "metadata": {},
   "outputs": [
    {
     "name": "stdout",
     "output_type": "stream",
     "text": [
      "Merging Dataframes...\n"
     ]
    }
   ],
   "source": [
    "merged_df = pd.merge(left=imagePath_df, right=imageFeatures_df, on='ID', how='inner', )\n",
    "\n",
    "print('Merging Dataframes...')"
   ]
  },
  {
   "cell_type": "code",
   "execution_count": 4,
   "metadata": {},
   "outputs": [
    {
     "data": {
      "text/html": [
       "<div>\n",
       "<style scoped>\n",
       "    .dataframe tbody tr th:only-of-type {\n",
       "        vertical-align: middle;\n",
       "    }\n",
       "\n",
       "    .dataframe tbody tr th {\n",
       "        vertical-align: top;\n",
       "    }\n",
       "\n",
       "    .dataframe thead th {\n",
       "        text-align: right;\n",
       "    }\n",
       "</style>\n",
       "<table border=\"1\" class=\"dataframe\">\n",
       "  <thead>\n",
       "    <tr style=\"text-align: right;\">\n",
       "      <th></th>\n",
       "      <th>ID</th>\n",
       "      <th>Path</th>\n",
       "      <th>Artist</th>\n",
       "      <th>Low Estimation Price</th>\n",
       "      <th>High Estimation Price</th>\n",
       "      <th>Hammer Price</th>\n",
       "      <th>Size</th>\n",
       "      <th>Medium</th>\n",
       "    </tr>\n",
       "  </thead>\n",
       "  <tbody>\n",
       "    <tr>\n",
       "      <th>0</th>\n",
       "      <td>999.0</td>\n",
       "      <td>data/Modern_Contemporary/999.JPEG</td>\n",
       "      <td>Carl Peter Hedelaian</td>\n",
       "      <td>420.0</td>\n",
       "      <td>560.0</td>\n",
       "      <td>1190.0</td>\n",
       "      <td>69cm-141cm(27.17in-55.51in)</td>\n",
       "      <td>Oil on canvas</td>\n",
       "    </tr>\n",
       "    <tr>\n",
       "      <th>1</th>\n",
       "      <td>998.0</td>\n",
       "      <td>data/Modern_Contemporary/998.JPEG</td>\n",
       "      <td>Tal R</td>\n",
       "      <td>NaN</td>\n",
       "      <td>700.0</td>\n",
       "      <td>448.00000000000006</td>\n",
       "      <td>70cm-100cm(27.56in-39.37in)</td>\n",
       "      <td>Silkscreen in colours</td>\n",
       "    </tr>\n",
       "    <tr>\n",
       "      <th>2</th>\n",
       "      <td>997.0</td>\n",
       "      <td>data/Modern_Contemporary/997.JPEG</td>\n",
       "      <td>Leif Hoegh</td>\n",
       "      <td>NaN</td>\n",
       "      <td>700.0</td>\n",
       "      <td>378.00000000000006</td>\n",
       "      <td>100cm-80cm(39.37in-31.5in)</td>\n",
       "      <td>Oil on panel</td>\n",
       "    </tr>\n",
       "    <tr>\n",
       "      <th>3</th>\n",
       "      <td>996.0</td>\n",
       "      <td>data/Modern_Contemporary/996.JPEG</td>\n",
       "      <td>Jane Morten</td>\n",
       "      <td>NaN</td>\n",
       "      <td>700.0</td>\n",
       "      <td>560.0</td>\n",
       "      <td>50cm-60cm(19.68in-23.62in)</td>\n",
       "      <td>Acrylic on canvas</td>\n",
       "    </tr>\n",
       "    <tr>\n",
       "      <th>4</th>\n",
       "      <td>995.0</td>\n",
       "      <td>data/Modern_Contemporary/995.JPEG</td>\n",
       "      <td>Niels Erik Skovballe</td>\n",
       "      <td>NaN</td>\n",
       "      <td>700.0</td>\n",
       "      <td>420.00000000000006</td>\n",
       "      <td>33cm-24cm(12.99in-9.45in)</td>\n",
       "      <td>Oil on plate</td>\n",
       "    </tr>\n",
       "  </tbody>\n",
       "</table>\n",
       "</div>"
      ],
      "text/plain": [
       "      ID                               Path                Artist  \\\n",
       "0  999.0  data/Modern_Contemporary/999.JPEG  Carl Peter Hedelaian   \n",
       "1  998.0  data/Modern_Contemporary/998.JPEG                 Tal R   \n",
       "2  997.0  data/Modern_Contemporary/997.JPEG            Leif Hoegh   \n",
       "3  996.0  data/Modern_Contemporary/996.JPEG           Jane Morten   \n",
       "4  995.0  data/Modern_Contemporary/995.JPEG  Niels Erik Skovballe   \n",
       "\n",
       "   Low Estimation Price  High Estimation Price        Hammer Price  \\\n",
       "0                 420.0                  560.0              1190.0   \n",
       "1                   NaN                  700.0  448.00000000000006   \n",
       "2                   NaN                  700.0  378.00000000000006   \n",
       "3                   NaN                  700.0               560.0   \n",
       "4                   NaN                  700.0  420.00000000000006   \n",
       "\n",
       "                          Size                 Medium  \n",
       "0  69cm-141cm(27.17in-55.51in)          Oil on canvas  \n",
       "1  70cm-100cm(27.56in-39.37in)  Silkscreen in colours  \n",
       "2   100cm-80cm(39.37in-31.5in)           Oil on panel  \n",
       "3   50cm-60cm(19.68in-23.62in)      Acrylic on canvas  \n",
       "4    33cm-24cm(12.99in-9.45in)           Oil on plate  "
      ]
     },
     "execution_count": 4,
     "metadata": {},
     "output_type": "execute_result"
    }
   ],
   "source": [
    "merged_df.head()"
   ]
  },
  {
   "cell_type": "code",
   "execution_count": 5,
   "metadata": {},
   "outputs": [
    {
     "data": {
      "text/plain": [
       "1811"
      ]
     },
     "execution_count": 5,
     "metadata": {},
     "output_type": "execute_result"
    }
   ],
   "source": [
    "len(merged_df)"
   ]
  },
  {
   "cell_type": "code",
   "execution_count": null,
   "metadata": {},
   "outputs": [],
   "source": []
  },
  {
   "attachments": {},
   "cell_type": "markdown",
   "metadata": {},
   "source": [
    "# 2 - Cleaning Data"
   ]
  },
  {
   "cell_type": "code",
   "execution_count": 6,
   "metadata": {},
   "outputs": [
    {
     "name": "stdout",
     "output_type": "stream",
     "text": [
      "Cleaning Data...\n"
     ]
    }
   ],
   "source": [
    "## Validating the data\n",
    "print('Cleaning Data...')\n",
    "\n",
    "\n",
    "merged_df['Hammer Price'] = pd.to_numeric(merged_df['Hammer Price'], errors='coerce')\n",
    "\n",
    "merged_df = merged_df.replace(np.nan, 0)\n",
    "\n",
    "# merged_df['Low Estimation Price'].replace(np.nan, 0)\n",
    "\n",
    "means = []\n",
    "\n",
    "for i, row in merged_df.iterrows():\n",
    "\n",
    "    if(row['Low Estimation Price'] == 0 and row['High Estimation Price'] == 0):\n",
    "        mean = row['Hammer Price'] / 2\n",
    "    \n",
    "    elif (row['Low Estimation Price'] == 0):\n",
    "        mean = (2*row['High Estimation Price']) / 2\n",
    "    else:\n",
    "        mean = (row['Low Estimation Price'] + row['High Estimation Price']) / 2\n",
    "    means.append(mean)\n",
    "    if(row['Hammer Price'] == 0.0): \n",
    "        merged_df.loc[i, 'Hammer Price'] = mean\n",
    "\n",
    "\n",
    "# \n",
    "merged_df['Mean Estimation'] = pd.Series(means)\n"
   ]
  },
  {
   "cell_type": "code",
   "execution_count": null,
   "metadata": {},
   "outputs": [],
   "source": []
  },
  {
   "cell_type": "code",
   "execution_count": 7,
   "metadata": {},
   "outputs": [
    {
     "name": "stdout",
     "output_type": "stream",
     "text": [
      "Normalizing Data...\n",
      "Total number of files removed 126\n"
     ]
    }
   ],
   "source": [
    "print('Normalizing Data...')\n",
    "CntRem = 0\n",
    "for i in range(len(merged_df)): \n",
    "    if(merged_df.at[i,'Mean Estimation'] > 1000):\n",
    "        CntRem +=1 \n",
    "        os.remove(merged_df.at[i,'Path'])\n",
    "        # merged_df.drop(merged_df.at[merged_df.index[i]], axis=0)\n",
    "\n",
    "        # print(\"Image\", merged_df.at[i,'ID'],\" to be removed\")\n",
    "\n",
    "print(\"Total number of files removed\", CntRem)"
   ]
  },
  {
   "attachments": {},
   "cell_type": "markdown",
   "metadata": {},
   "source": [
    "# 3 - Loading Images to dataframe"
   ]
  },
  {
   "cell_type": "code",
   "execution_count": 8,
   "metadata": {},
   "outputs": [],
   "source": [
    "# ##Creating List for Compressed Numpy array data paths\n",
    "import os.path \n",
    "\n",
    "\n",
    "\n",
    "images = []\n",
    "id = []\n",
    "IMAGE_RESIZE = (256,256)\n",
    "\n",
    "\n",
    "for i, row in merged_df.iterrows():\n",
    "\n",
    "    ## ASsigning iamge path the picture path\n",
    "    picture_Path = row['Path']\n",
    "    iD = row = row[\"ID\"]\n",
    "\n",
    "    if os.path.exists(picture_Path):\n",
    "        # Reading Image Path, Color Correcting, and then resizing\n",
    "        pic_bgr_arr = cv2.imread(picture_Path)\n",
    "        pic_rgb_arr = cv2.cvtColor(pic_bgr_arr, cv2.COLOR_BGR2RGB)\n",
    "        pic_rgb_arr = cv2.resize(pic_rgb_arr, IMAGE_RESIZE)\n",
    "        pic_rgb_arr = pic_rgb_arr / 255.0\n",
    "\n",
    "        # Append to Image List\n",
    "        images.append(pic_rgb_arr)\n",
    "        id.append(iD)\n",
    "    \n",
    "    else:\n",
    "        continue\n",
    "       \n",
    "    \n",
    "\n",
    "# ZIP contents to load into datafram\n",
    "dfData = list(zip(id, images))\n",
    "images_df = pd.DataFrame(dfData, columns=['ID', 'Image'])\n"
   ]
  },
  {
   "cell_type": "code",
   "execution_count": 9,
   "metadata": {},
   "outputs": [
    {
     "data": {
      "text/plain": [
       "1811"
      ]
     },
     "execution_count": 9,
     "metadata": {},
     "output_type": "execute_result"
    }
   ],
   "source": [
    "len(images)"
   ]
  },
  {
   "cell_type": "code",
   "execution_count": 9,
   "metadata": {},
   "outputs": [],
   "source": [
    "# // merging with dataframe\n",
    "merged_df = pd.merge(left=merged_df, right=images_df, on='ID', how='inner')\n",
    "\n"
   ]
  },
  {
   "cell_type": "code",
   "execution_count": 10,
   "metadata": {},
   "outputs": [],
   "source": [
    "merged_df.drop([ 'Medium', 'Size', 'Path', 'ID', 'Artist', 'Low Estimation Price', 'Hammer Price', 'High Estimation Price' ],inplace=True, axis=1)"
   ]
  },
  {
   "cell_type": "code",
   "execution_count": 11,
   "metadata": {},
   "outputs": [
    {
     "data": {
      "text/html": [
       "<div>\n",
       "<style scoped>\n",
       "    .dataframe tbody tr th:only-of-type {\n",
       "        vertical-align: middle;\n",
       "    }\n",
       "\n",
       "    .dataframe tbody tr th {\n",
       "        vertical-align: top;\n",
       "    }\n",
       "\n",
       "    .dataframe thead th {\n",
       "        text-align: right;\n",
       "    }\n",
       "</style>\n",
       "<table border=\"1\" class=\"dataframe\">\n",
       "  <thead>\n",
       "    <tr style=\"text-align: right;\">\n",
       "      <th></th>\n",
       "      <th>Mean Estimation</th>\n",
       "      <th>Image</th>\n",
       "    </tr>\n",
       "  </thead>\n",
       "  <tbody>\n",
       "    <tr>\n",
       "      <th>0</th>\n",
       "      <td>490.0</td>\n",
       "      <td>[[[0.5686274509803921, 0.8235294117647058, 0.8...</td>\n",
       "    </tr>\n",
       "    <tr>\n",
       "      <th>1</th>\n",
       "      <td>700.0</td>\n",
       "      <td>[[[0.34901960784313724, 0.396078431372549, 0.4...</td>\n",
       "    </tr>\n",
       "    <tr>\n",
       "      <th>2</th>\n",
       "      <td>700.0</td>\n",
       "      <td>[[[0.10588235294117647, 0.13725490196078433, 0...</td>\n",
       "    </tr>\n",
       "    <tr>\n",
       "      <th>3</th>\n",
       "      <td>700.0</td>\n",
       "      <td>[[[0.5411764705882353, 0.7254901960784313, 0.6...</td>\n",
       "    </tr>\n",
       "    <tr>\n",
       "      <th>4</th>\n",
       "      <td>700.0</td>\n",
       "      <td>[[[0.03137254901960784, 0.0392156862745098, 0....</td>\n",
       "    </tr>\n",
       "  </tbody>\n",
       "</table>\n",
       "</div>"
      ],
      "text/plain": [
       "   Mean Estimation                                              Image\n",
       "0            490.0  [[[0.5686274509803921, 0.8235294117647058, 0.8...\n",
       "1            700.0  [[[0.34901960784313724, 0.396078431372549, 0.4...\n",
       "2            700.0  [[[0.10588235294117647, 0.13725490196078433, 0...\n",
       "3            700.0  [[[0.5411764705882353, 0.7254901960784313, 0.6...\n",
       "4            700.0  [[[0.03137254901960784, 0.0392156862745098, 0...."
      ]
     },
     "execution_count": 11,
     "metadata": {},
     "output_type": "execute_result"
    }
   ],
   "source": [
    "merged_df.head()"
   ]
  },
  {
   "cell_type": "code",
   "execution_count": 12,
   "metadata": {},
   "outputs": [
    {
     "data": {
      "text/plain": [
       "<AxesSubplot:>"
      ]
     },
     "execution_count": 12,
     "metadata": {},
     "output_type": "execute_result"
    },
    {
     "data": {
      "image/png": "[encoded data removed]",
      "text/plain": [
       "<Figure size 640x480 with 1 Axes>"
      ]
     },
     "metadata": {},
     "output_type": "display_data"
    }
   ],
   "source": [
    "merged_df['Mean Estimation'].hist()"
   ]
  },
  {
   "attachments": {},
   "cell_type": "markdown",
   "metadata": {},
   "source": [
    "# 4 Normalizing"
   ]
  },
  {
   "cell_type": "code",
   "execution_count": 13,
   "metadata": {},
   "outputs": [
    {
     "name": "stdout",
     "output_type": "stream",
     "text": [
      "449.5240356083086\n",
      "222.8503443918832\n",
      "1000.0\n"
     ]
    }
   ],
   "source": [
    "# from sklearn.preprocessing import MinMaxScaler \n",
    "\n",
    "# scaler = MinMaxScaler()\n",
    "\n",
    "\n",
    "\n",
    "\n",
    "# merged_df['Mean Estimation'] = scaler.fit(merged_df['Mean Estimation'])\n",
    "\n",
    "meanAvg = merged_df['Mean Estimation'].mean()\n",
    "meanDev = merged_df['Mean Estimation'].std()\n",
    "meanMax = merged_df['Mean Estimation'].max()\n",
    "meanMin = merged_df['Mean Estimation'].min()\n",
    "\n",
    "\n",
    "\n",
    "print(meanAvg)\n",
    "print(meanDev)\n",
    "print(meanMax)\n",
    "\n",
    "\n",
    "for i in range(len(merged_df)):\n",
    "    merged_df.loc[i, 'Mean Estimation'] = np.log(merged_df.at[i, 'Mean Estimation'])\n",
    "#     merged_df.loc[i, 'Mean Estimation'] = merged_df.at[i, 'Mean Estimation'] / 100.0\n",
    "\n",
    "\n",
    "# # merged_df.loc[i, 'Mean Estimation'] = (merged_df.at[i, 'Mean Estimation'] - meanAvg) / meanDev\n",
    "\n",
    "\n",
    "\n",
    "# merged_df.head()"
   ]
  },
  {
   "cell_type": "code",
   "execution_count": 14,
   "metadata": {},
   "outputs": [
    {
     "data": {
      "text/plain": [
       "<AxesSubplot:>"
      ]
     },
     "execution_count": 14,
     "metadata": {},
     "output_type": "execute_result"
    },
    {
     "data": {
      "image/png": "[encoded data removed]",
      "text/plain": [
       "<Figure size 640x480 with 1 Axes>"
      ]
     },
     "metadata": {},
     "output_type": "display_data"
    }
   ],
   "source": [
    "merged_df['Mean Estimation'].hist()"
   ]
  },
  {
   "cell_type": "code",
   "execution_count": 15,
   "metadata": {},
   "outputs": [],
   "source": [
    "# merged_df.drop([ 'Low Estimation Price', 'High Estimation Price',],inplace=True, axis=1)\n",
    "# merged_df.drop([ 'Hammer Price'],inplace=True, axis=1)"
   ]
  },
  {
   "cell_type": "code",
   "execution_count": 15,
   "metadata": {},
   "outputs": [
    {
     "data": {
      "text/html": [
       "<div>\n",
       "<style scoped>\n",
       "    .dataframe tbody tr th:only-of-type {\n",
       "        vertical-align: middle;\n",
       "    }\n",
       "\n",
       "    .dataframe tbody tr th {\n",
       "        vertical-align: top;\n",
       "    }\n",
       "\n",
       "    .dataframe thead th {\n",
       "        text-align: right;\n",
       "    }\n",
       "</style>\n",
       "<table border=\"1\" class=\"dataframe\">\n",
       "  <thead>\n",
       "    <tr style=\"text-align: right;\">\n",
       "      <th></th>\n",
       "      <th>Mean Estimation</th>\n",
       "      <th>Image</th>\n",
       "    </tr>\n",
       "  </thead>\n",
       "  <tbody>\n",
       "    <tr>\n",
       "      <th>0</th>\n",
       "      <td>6.194405</td>\n",
       "      <td>[[[0.5686274509803921, 0.8235294117647058, 0.8...</td>\n",
       "    </tr>\n",
       "    <tr>\n",
       "      <th>1</th>\n",
       "      <td>6.551080</td>\n",
       "      <td>[[[0.34901960784313724, 0.396078431372549, 0.4...</td>\n",
       "    </tr>\n",
       "    <tr>\n",
       "      <th>2</th>\n",
       "      <td>6.551080</td>\n",
       "      <td>[[[0.10588235294117647, 0.13725490196078433, 0...</td>\n",
       "    </tr>\n",
       "    <tr>\n",
       "      <th>3</th>\n",
       "      <td>6.551080</td>\n",
       "      <td>[[[0.5411764705882353, 0.7254901960784313, 0.6...</td>\n",
       "    </tr>\n",
       "    <tr>\n",
       "      <th>4</th>\n",
       "      <td>6.551080</td>\n",
       "      <td>[[[0.03137254901960784, 0.0392156862745098, 0....</td>\n",
       "    </tr>\n",
       "  </tbody>\n",
       "</table>\n",
       "</div>"
      ],
      "text/plain": [
       "   Mean Estimation                                              Image\n",
       "0         6.194405  [[[0.5686274509803921, 0.8235294117647058, 0.8...\n",
       "1         6.551080  [[[0.34901960784313724, 0.396078431372549, 0.4...\n",
       "2         6.551080  [[[0.10588235294117647, 0.13725490196078433, 0...\n",
       "3         6.551080  [[[0.5411764705882353, 0.7254901960784313, 0.6...\n",
       "4         6.551080  [[[0.03137254901960784, 0.0392156862745098, 0...."
      ]
     },
     "execution_count": 15,
     "metadata": {},
     "output_type": "execute_result"
    }
   ],
   "source": [
    "merged_df.head()"
   ]
  },
  {
   "cell_type": "code",
   "execution_count": 20,
   "metadata": {},
   "outputs": [
    {
     "data": {
      "text/plain": [
       "(1340, 260, 85)"
      ]
     },
     "execution_count": 20,
     "metadata": {},
     "output_type": "execute_result"
    }
   ],
   "source": [
    "\n",
    "shuffled_df = merged_df.sample(frac=1)\n",
    "\n",
    "\n",
    "\n",
    "train_df, val_df, test_df = shuffled_df[:1340], shuffled_df[1340:1600], shuffled_df[1600:]\n",
    "\n",
    "len(train_df), len(val_df), len(test_df)\n"
   ]
  },
  {
   "cell_type": "code",
   "execution_count": 21,
   "metadata": {},
   "outputs": [
    {
     "data": {
      "text/html": [
       "<div>\n",
       "<style scoped>\n",
       "    .dataframe tbody tr th:only-of-type {\n",
       "        vertical-align: middle;\n",
       "    }\n",
       "\n",
       "    .dataframe tbody tr th {\n",
       "        vertical-align: top;\n",
       "    }\n",
       "\n",
       "    .dataframe thead th {\n",
       "        text-align: right;\n",
       "    }\n",
       "</style>\n",
       "<table border=\"1\" class=\"dataframe\">\n",
       "  <thead>\n",
       "    <tr style=\"text-align: right;\">\n",
       "      <th></th>\n",
       "      <th>Mean Estimation</th>\n",
       "      <th>Image</th>\n",
       "    </tr>\n",
       "  </thead>\n",
       "  <tbody>\n",
       "    <tr>\n",
       "      <th>1250</th>\n",
       "      <td>5.857933</td>\n",
       "      <td>[[[0.2980392156862745, 0.4823529411764706, 0.3...</td>\n",
       "    </tr>\n",
       "    <tr>\n",
       "      <th>1038</th>\n",
       "      <td>6.040255</td>\n",
       "      <td>[[[0.9254901960784314, 0.9176470588235294, 0.8...</td>\n",
       "    </tr>\n",
       "    <tr>\n",
       "      <th>270</th>\n",
       "      <td>5.501258</td>\n",
       "      <td>[[[0.8352941176470589, 0.8549019607843137, 0.8...</td>\n",
       "    </tr>\n",
       "    <tr>\n",
       "      <th>947</th>\n",
       "      <td>6.194405</td>\n",
       "      <td>[[[0.5686274509803921, 0.5176470588235295, 0.4...</td>\n",
       "    </tr>\n",
       "    <tr>\n",
       "      <th>1415</th>\n",
       "      <td>5.857933</td>\n",
       "      <td>[[[0.8509803921568627, 0.26666666666666666, 0....</td>\n",
       "    </tr>\n",
       "  </tbody>\n",
       "</table>\n",
       "</div>"
      ],
      "text/plain": [
       "      Mean Estimation                                              Image\n",
       "1250         5.857933  [[[0.2980392156862745, 0.4823529411764706, 0.3...\n",
       "1038         6.040255  [[[0.9254901960784314, 0.9176470588235294, 0.8...\n",
       "270          5.501258  [[[0.8352941176470589, 0.8549019607843137, 0.8...\n",
       "947          6.194405  [[[0.5686274509803921, 0.5176470588235295, 0.4...\n",
       "1415         5.857933  [[[0.8509803921568627, 0.26666666666666666, 0...."
      ]
     },
     "execution_count": 21,
     "metadata": {},
     "output_type": "execute_result"
    }
   ],
   "source": [
    "train_df.head()"
   ]
  },
  {
   "cell_type": "code",
   "execution_count": 22,
   "metadata": {},
   "outputs": [],
   "source": [
    "\n",
    "\n",
    "def get_X_y(df):\n",
    "\n",
    "    dfArr = np.array(df)\n",
    "\n",
    "    x_pic = []\n",
    "    y_medium = []\n",
    "\n",
    "    for i in range(len(df)): \n",
    "\n",
    "        estimation = dfArr[i, 0]\n",
    "        y_medium.append(estimation)\n",
    "\n",
    "        pic = dfArr[i, 1]\n",
    "        x_pic.append(pic)\n",
    "\n",
    "    X_pic = np.asarray(x_pic)\n",
    "    Y_medium = np.asarray(y_medium)\n",
    "\n",
    "\n",
    "    return X_pic, Y_medium  \n",
    "\n"
   ]
  },
  {
   "cell_type": "code",
   "execution_count": 23,
   "metadata": {},
   "outputs": [],
   "source": [
    "X_train_pic, Y_train_est = get_X_y(train_df)\n",
    "\n",
    "X_val_pic,  Y_val_est = get_X_y(val_df)\n",
    "\n",
    "X_test_pic, Y_test_est = get_X_y(test_df)"
   ]
  },
  {
   "cell_type": "code",
   "execution_count": 24,
   "metadata": {},
   "outputs": [],
   "source": [
    "# Y_train_art[0]\n",
    "X_train_picTensor = tf.convert_to_tensor(X_train_pic, dtype=\"float32\")\n",
    "Y_trainEstTensor = tf.convert_to_tensor(Y_train_est, dtype=\"float32\")\n",
    "\n",
    "X_val_picTensor = tf.convert_to_tensor(X_val_pic, dtype=\"float32\")\n",
    "Y_valEstTensor = tf.convert_to_tensor(Y_val_est, dtype=\"float32\")\n",
    "\n",
    "valData = [X_val_picTensor, Y_valEstTensor]\n"
   ]
  },
  {
   "attachments": {},
   "cell_type": "markdown",
   "metadata": {},
   "source": [
    "# 5 - Modeling"
   ]
  },
  {
   "cell_type": "code",
   "execution_count": 25,
   "metadata": {},
   "outputs": [],
   "source": [
    "from tensorflow.keras.models import Sequential\n",
    "from tensorflow.keras.layers import BatchNormalization\n",
    "from tensorflow.keras.layers import Conv2D\n",
    "from tensorflow.keras.layers import MaxPooling2D\n",
    "from tensorflow.keras.layers import Activation\n",
    "from tensorflow.keras.layers import Flatten\n",
    "from tensorflow.keras.layers import Dropout\n",
    "from tensorflow.keras.layers import Dense\n",
    "from tensorflow.keras import backend as K\n",
    "import tensorflow as tf"
   ]
  },
  {
   "cell_type": "code",
   "execution_count": 41,
   "metadata": {},
   "outputs": [],
   "source": [
    "model = Sequential()\n",
    "\n",
    "model.add(Conv2D(32, (3,3), 1, activation='relu', input_shape=(256,256,3)))\n",
    "# model.add(MaxPooling2D())\n",
    "# MaxPool condesing wach 2x2 patch and taking max value\n",
    "model.add(BatchNormalization())\n",
    "model.add(Dropout(0.2))\n",
    "\n",
    "model.add(Conv2D(128,  (3,3), 1, activation='relu'))\n",
    "model.add(MaxPooling2D())\n",
    "model.add(Dropout(0.2))\n",
    "\n",
    "\n",
    "model.add(Conv2D(64,  (3,3), 1, activation='relu'))\n",
    "model.add(MaxPooling2D())\n",
    "model.add(Dropout(0.2))\n",
    "\n",
    "model.add(Conv2D(64,  (3,3), 1, activation='relu'))\n",
    "model.add(MaxPooling2D())\n",
    "model.add(Dropout(0.2))\n",
    "\n",
    "model.add(Flatten())\n",
    "\n",
    "model.add(Dense(128, activation='relu'))\n",
    "model.add(Dense(32, activation='relu'))\n",
    "model.add(Dense(1, activation='relu'))\n",
    "\n",
    "model.compile(optimizer='adam', loss='mse', metrics=['accuracy'])\n"
   ]
  },
  {
   "cell_type": "code",
   "execution_count": 43,
   "metadata": {},
   "outputs": [
    {
     "name": "stdout",
     "output_type": "stream",
     "text": [
      "Model: \"sequential_2\"\n",
      "_________________________________________________________________\n",
      " Layer (type)                Output Shape              Param #   \n",
      "=================================================================\n",
      " conv2d_10 (Conv2D)          (None, 254, 254, 32)      896       \n",
      "                                                                 \n",
      " batch_normalization_1 (Batc  (None, 254, 254, 32)     128       \n",
      " hNormalization)                                                 \n",
      "                                                                 \n",
      " dropout_10 (Dropout)        (None, 254, 254, 32)      0         \n",
      "                                                                 \n",
      " conv2d_11 (Conv2D)          (None, 252, 252, 128)     36992     \n",
      "                                                                 \n",
      " max_pooling2d_9 (MaxPooling  (None, 126, 126, 128)    0         \n",
      " 2D)                                                             \n",
      "                                                                 \n",
      " dropout_11 (Dropout)        (None, 126, 126, 128)     0         \n",
      "                                                                 \n",
      " conv2d_12 (Conv2D)          (None, 124, 124, 64)      73792     \n",
      "                                                                 \n",
      " max_pooling2d_10 (MaxPoolin  (None, 62, 62, 64)       0         \n",
      " g2D)                                                            \n",
      "                                                                 \n",
      " dropout_12 (Dropout)        (None, 62, 62, 64)        0         \n",
      "                                                                 \n",
      " conv2d_13 (Conv2D)          (None, 60, 60, 64)        36928     \n",
      "                                                                 \n",
      " max_pooling2d_11 (MaxPoolin  (None, 30, 30, 64)       0         \n",
      " g2D)                                                            \n",
      "                                                                 \n",
      " dropout_13 (Dropout)        (None, 30, 30, 64)        0         \n",
      "                                                                 \n",
      " flatten_2 (Flatten)         (None, 57600)             0         \n",
      "                                                                 \n",
      " dense_6 (Dense)             (None, 128)               7372928   \n",
      "                                                                 \n",
      " dense_7 (Dense)             (None, 32)                4128      \n",
      "                                                                 \n",
      " dense_8 (Dense)             (None, 1)                 33        \n",
      "                                                                 \n",
      "=================================================================\n",
      "Total params: 7,525,825\n",
      "Trainable params: 7,525,761\n",
      "Non-trainable params: 64\n",
      "_________________________________________________________________\n"
     ]
    }
   ],
   "source": [
    "model.summary()"
   ]
  },
  {
   "cell_type": "code",
   "execution_count": 44,
   "metadata": {},
   "outputs": [
    {
     "name": "stdout",
     "output_type": "stream",
     "text": [
      "Epoch 1/3\n",
      " 5/42 [==>...........................] - ETA: 7:14 - loss: 4628.7334 - accuracy: 0.0000e+00"
     ]
    },
    {
     "ename": "KeyboardInterrupt",
     "evalue": "",
     "output_type": "error",
     "traceback": [
      "\u001b[1;31m---------------------------------------------------------------------------\u001b[0m",
      "\u001b[1;31mKeyboardInterrupt\u001b[0m                         Traceback (most recent call last)",
      "\u001b[1;32m~\\AppData\\Local\\Temp\\ipykernel_18412\\1157575865.py\u001b[0m in \u001b[0;36m<module>\u001b[1;34m\u001b[0m\n\u001b[0;32m      1\u001b[0m \u001b[0mlogdir\u001b[0m \u001b[1;33m=\u001b[0m \u001b[1;34m'logs'\u001b[0m\u001b[1;33m\u001b[0m\u001b[1;33m\u001b[0m\u001b[0m\n\u001b[0;32m      2\u001b[0m \u001b[0mtensorboard_callback\u001b[0m \u001b[1;33m=\u001b[0m \u001b[0mtf\u001b[0m\u001b[1;33m.\u001b[0m\u001b[0mkeras\u001b[0m\u001b[1;33m.\u001b[0m\u001b[0mcallbacks\u001b[0m\u001b[1;33m.\u001b[0m\u001b[0mTensorBoard\u001b[0m\u001b[1;33m(\u001b[0m\u001b[0mlog_dir\u001b[0m\u001b[1;33m=\u001b[0m\u001b[0mlogdir\u001b[0m\u001b[1;33m)\u001b[0m\u001b[1;33m\u001b[0m\u001b[1;33m\u001b[0m\u001b[0m\n\u001b[1;32m----> 3\u001b[1;33m \u001b[0mhist\u001b[0m \u001b[1;33m=\u001b[0m \u001b[0mmodel\u001b[0m\u001b[1;33m.\u001b[0m\u001b[0mfit\u001b[0m\u001b[1;33m(\u001b[0m\u001b[0mx\u001b[0m \u001b[1;33m=\u001b[0m \u001b[0mX_train_pic\u001b[0m\u001b[1;33m,\u001b[0m \u001b[0my\u001b[0m \u001b[1;33m=\u001b[0m \u001b[0mY_train_est\u001b[0m\u001b[1;33m,\u001b[0m \u001b[0mepochs\u001b[0m\u001b[1;33m=\u001b[0m\u001b[1;36m3\u001b[0m\u001b[1;33m,\u001b[0m \u001b[0mvalidation_data\u001b[0m\u001b[1;33m=\u001b[0m\u001b[0mvalData\u001b[0m\u001b[1;33m,\u001b[0m \u001b[0mcallbacks\u001b[0m\u001b[1;33m=\u001b[0m\u001b[1;33m[\u001b[0m\u001b[0mtensorboard_callback\u001b[0m\u001b[1;33m]\u001b[0m\u001b[1;33m)\u001b[0m\u001b[1;33m\u001b[0m\u001b[1;33m\u001b[0m\u001b[0m\n\u001b[0m",
      "\u001b[1;32mc:\\Users\\Tober\\anaconda3\\lib\\site-packages\\keras\\utils\\traceback_utils.py\u001b[0m in \u001b[0;36merror_handler\u001b[1;34m(*args, **kwargs)\u001b[0m\n\u001b[0;32m     63\u001b[0m         \u001b[0mfiltered_tb\u001b[0m \u001b[1;33m=\u001b[0m \u001b[1;32mNone\u001b[0m\u001b[1;33m\u001b[0m\u001b[1;33m\u001b[0m\u001b[0m\n\u001b[0;32m     64\u001b[0m         \u001b[1;32mtry\u001b[0m\u001b[1;33m:\u001b[0m\u001b[1;33m\u001b[0m\u001b[1;33m\u001b[0m\u001b[0m\n\u001b[1;32m---> 65\u001b[1;33m             \u001b[1;32mreturn\u001b[0m \u001b[0mfn\u001b[0m\u001b[1;33m(\u001b[0m\u001b[1;33m*\u001b[0m\u001b[0margs\u001b[0m\u001b[1;33m,\u001b[0m \u001b[1;33m**\u001b[0m\u001b[0mkwargs\u001b[0m\u001b[1;33m)\u001b[0m\u001b[1;33m\u001b[0m\u001b[1;33m\u001b[0m\u001b[0m\n\u001b[0m\u001b[0;32m     66\u001b[0m         \u001b[1;32mexcept\u001b[0m \u001b[0mException\u001b[0m \u001b[1;32mas\u001b[0m \u001b[0me\u001b[0m\u001b[1;33m:\u001b[0m\u001b[1;33m\u001b[0m\u001b[1;33m\u001b[0m\u001b[0m\n\u001b[0;32m     67\u001b[0m             \u001b[0mfiltered_tb\u001b[0m \u001b[1;33m=\u001b[0m \u001b[0m_process_traceback_frames\u001b[0m\u001b[1;33m(\u001b[0m\u001b[0me\u001b[0m\u001b[1;33m.\u001b[0m\u001b[0m__traceback__\u001b[0m\u001b[1;33m)\u001b[0m\u001b[1;33m\u001b[0m\u001b[1;33m\u001b[0m\u001b[0m\n",
      "\u001b[1;32mc:\\Users\\Tober\\anaconda3\\lib\\site-packages\\keras\\engine\\training.py\u001b[0m in \u001b[0;36mfit\u001b[1;34m(self, x, y, batch_size, epochs, verbose, callbacks, validation_split, validation_data, shuffle, class_weight, sample_weight, initial_epoch, steps_per_epoch, validation_steps, validation_batch_size, validation_freq, max_queue_size, workers, use_multiprocessing)\u001b[0m\n\u001b[0;32m   1648\u001b[0m                         ):\n\u001b[0;32m   1649\u001b[0m                             \u001b[0mcallbacks\u001b[0m\u001b[1;33m.\u001b[0m\u001b[0mon_train_batch_begin\u001b[0m\u001b[1;33m(\u001b[0m\u001b[0mstep\u001b[0m\u001b[1;33m)\u001b[0m\u001b[1;33m\u001b[0m\u001b[1;33m\u001b[0m\u001b[0m\n\u001b[1;32m-> 1650\u001b[1;33m                             \u001b[0mtmp_logs\u001b[0m \u001b[1;33m=\u001b[0m \u001b[0mself\u001b[0m\u001b[1;33m.\u001b[0m\u001b[0mtrain_function\u001b[0m\u001b[1;33m(\u001b[0m\u001b[0miterator\u001b[0m\u001b[1;33m)\u001b[0m\u001b[1;33m\u001b[0m\u001b[1;33m\u001b[0m\u001b[0m\n\u001b[0m\u001b[0;32m   1651\u001b[0m                             \u001b[1;32mif\u001b[0m \u001b[0mdata_handler\u001b[0m\u001b[1;33m.\u001b[0m\u001b[0mshould_sync\u001b[0m\u001b[1;33m:\u001b[0m\u001b[1;33m\u001b[0m\u001b[1;33m\u001b[0m\u001b[0m\n\u001b[0;32m   1652\u001b[0m                                 \u001b[0mcontext\u001b[0m\u001b[1;33m.\u001b[0m\u001b[0masync_wait\u001b[0m\u001b[1;33m(\u001b[0m\u001b[1;33m)\u001b[0m\u001b[1;33m\u001b[0m\u001b[1;33m\u001b[0m\u001b[0m\n",
      "\u001b[1;32mc:\\Users\\Tober\\anaconda3\\lib\\site-packages\\tensorflow\\python\\util\\traceback_utils.py\u001b[0m in \u001b[0;36merror_handler\u001b[1;34m(*args, **kwargs)\u001b[0m\n\u001b[0;32m    148\u001b[0m     \u001b[0mfiltered_tb\u001b[0m \u001b[1;33m=\u001b[0m \u001b[1;32mNone\u001b[0m\u001b[1;33m\u001b[0m\u001b[1;33m\u001b[0m\u001b[0m\n\u001b[0;32m    149\u001b[0m     \u001b[1;32mtry\u001b[0m\u001b[1;33m:\u001b[0m\u001b[1;33m\u001b[0m\u001b[1;33m\u001b[0m\u001b[0m\n\u001b[1;32m--> 150\u001b[1;33m       \u001b[1;32mreturn\u001b[0m \u001b[0mfn\u001b[0m\u001b[1;33m(\u001b[0m\u001b[1;33m*\u001b[0m\u001b[0margs\u001b[0m\u001b[1;33m,\u001b[0m \u001b[1;33m**\u001b[0m\u001b[0mkwargs\u001b[0m\u001b[1;33m)\u001b[0m\u001b[1;33m\u001b[0m\u001b[1;33m\u001b[0m\u001b[0m\n\u001b[0m\u001b[0;32m    151\u001b[0m     \u001b[1;32mexcept\u001b[0m \u001b[0mException\u001b[0m \u001b[1;32mas\u001b[0m \u001b[0me\u001b[0m\u001b[1;33m:\u001b[0m\u001b[1;33m\u001b[0m\u001b[1;33m\u001b[0m\u001b[0m\n\u001b[0;32m    152\u001b[0m       \u001b[0mfiltered_tb\u001b[0m \u001b[1;33m=\u001b[0m \u001b[0m_process_traceback_frames\u001b[0m\u001b[1;33m(\u001b[0m\u001b[0me\u001b[0m\u001b[1;33m.\u001b[0m\u001b[0m__traceback__\u001b[0m\u001b[1;33m)\u001b[0m\u001b[1;33m\u001b[0m\u001b[1;33m\u001b[0m\u001b[0m\n",
      "\u001b[1;32mc:\\Users\\Tober\\anaconda3\\lib\\site-packages\\tensorflow\\python\\eager\\polymorphic_function\\polymorphic_function.py\u001b[0m in \u001b[0;36m__call__\u001b[1;34m(self, *args, **kwds)\u001b[0m\n\u001b[0;32m    878\u001b[0m \u001b[1;33m\u001b[0m\u001b[0m\n\u001b[0;32m    879\u001b[0m       \u001b[1;32mwith\u001b[0m \u001b[0mOptionalXlaContext\u001b[0m\u001b[1;33m(\u001b[0m\u001b[0mself\u001b[0m\u001b[1;33m.\u001b[0m\u001b[0m_jit_compile\u001b[0m\u001b[1;33m)\u001b[0m\u001b[1;33m:\u001b[0m\u001b[1;33m\u001b[0m\u001b[1;33m\u001b[0m\u001b[0m\n\u001b[1;32m--> 880\u001b[1;33m         \u001b[0mresult\u001b[0m \u001b[1;33m=\u001b[0m \u001b[0mself\u001b[0m\u001b[1;33m.\u001b[0m\u001b[0m_call\u001b[0m\u001b[1;33m(\u001b[0m\u001b[1;33m*\u001b[0m\u001b[0margs\u001b[0m\u001b[1;33m,\u001b[0m \u001b[1;33m**\u001b[0m\u001b[0mkwds\u001b[0m\u001b[1;33m)\u001b[0m\u001b[1;33m\u001b[0m\u001b[1;33m\u001b[0m\u001b[0m\n\u001b[0m\u001b[0;32m    881\u001b[0m \u001b[1;33m\u001b[0m\u001b[0m\n\u001b[0;32m    882\u001b[0m       \u001b[0mnew_tracing_count\u001b[0m \u001b[1;33m=\u001b[0m \u001b[0mself\u001b[0m\u001b[1;33m.\u001b[0m\u001b[0mexperimental_get_tracing_count\u001b[0m\u001b[1;33m(\u001b[0m\u001b[1;33m)\u001b[0m\u001b[1;33m\u001b[0m\u001b[1;33m\u001b[0m\u001b[0m\n",
      "\u001b[1;32mc:\\Users\\Tober\\anaconda3\\lib\\site-packages\\tensorflow\\python\\eager\\polymorphic_function\\polymorphic_function.py\u001b[0m in \u001b[0;36m_call\u001b[1;34m(self, *args, **kwds)\u001b[0m\n\u001b[0;32m    910\u001b[0m       \u001b[1;31m# In this case we have created variables on the first call, so we run the\u001b[0m\u001b[1;33m\u001b[0m\u001b[1;33m\u001b[0m\u001b[0m\n\u001b[0;32m    911\u001b[0m       \u001b[1;31m# defunned version which is guaranteed to never create variables.\u001b[0m\u001b[1;33m\u001b[0m\u001b[1;33m\u001b[0m\u001b[0m\n\u001b[1;32m--> 912\u001b[1;33m       \u001b[1;32mreturn\u001b[0m \u001b[0mself\u001b[0m\u001b[1;33m.\u001b[0m\u001b[0m_no_variable_creation_fn\u001b[0m\u001b[1;33m(\u001b[0m\u001b[1;33m*\u001b[0m\u001b[0margs\u001b[0m\u001b[1;33m,\u001b[0m \u001b[1;33m**\u001b[0m\u001b[0mkwds\u001b[0m\u001b[1;33m)\u001b[0m  \u001b[1;31m# pylint: disable=not-callable\u001b[0m\u001b[1;33m\u001b[0m\u001b[1;33m\u001b[0m\u001b[0m\n\u001b[0m\u001b[0;32m    913\u001b[0m     \u001b[1;32melif\u001b[0m \u001b[0mself\u001b[0m\u001b[1;33m.\u001b[0m\u001b[0m_variable_creation_fn\u001b[0m \u001b[1;32mis\u001b[0m \u001b[1;32mnot\u001b[0m \u001b[1;32mNone\u001b[0m\u001b[1;33m:\u001b[0m\u001b[1;33m\u001b[0m\u001b[1;33m\u001b[0m\u001b[0m\n\u001b[0;32m    914\u001b[0m       \u001b[1;31m# Release the lock early so that multiple threads can perform the call\u001b[0m\u001b[1;33m\u001b[0m\u001b[1;33m\u001b[0m\u001b[0m\n",
      "\u001b[1;32mc:\\Users\\Tober\\anaconda3\\lib\\site-packages\\tensorflow\\python\\eager\\polymorphic_function\\tracing_compiler.py\u001b[0m in \u001b[0;36m__call__\u001b[1;34m(self, *args, **kwargs)\u001b[0m\n\u001b[0;32m    132\u001b[0m       (concrete_function,\n\u001b[0;32m    133\u001b[0m        filtered_flat_args) = self._maybe_define_function(args, kwargs)\n\u001b[1;32m--> 134\u001b[1;33m     return concrete_function._call_flat(\n\u001b[0m\u001b[0;32m    135\u001b[0m         filtered_flat_args, captured_inputs=concrete_function.captured_inputs)  # pylint: disable=protected-access\n\u001b[0;32m    136\u001b[0m \u001b[1;33m\u001b[0m\u001b[0m\n",
      "\u001b[1;32mc:\\Users\\Tober\\anaconda3\\lib\\site-packages\\tensorflow\\python\\eager\\polymorphic_function\\monomorphic_function.py\u001b[0m in \u001b[0;36m_call_flat\u001b[1;34m(self, args, captured_inputs, cancellation_manager)\u001b[0m\n\u001b[0;32m   1743\u001b[0m         and executing_eagerly):\n\u001b[0;32m   1744\u001b[0m       \u001b[1;31m# No tape is watching; skip to running the function.\u001b[0m\u001b[1;33m\u001b[0m\u001b[1;33m\u001b[0m\u001b[0m\n\u001b[1;32m-> 1745\u001b[1;33m       return self._build_call_outputs(self._inference_function.call(\n\u001b[0m\u001b[0;32m   1746\u001b[0m           ctx, args, cancellation_manager=cancellation_manager))\n\u001b[0;32m   1747\u001b[0m     forward_backward = self._select_forward_and_backward_functions(\n",
      "\u001b[1;32mc:\\Users\\Tober\\anaconda3\\lib\\site-packages\\tensorflow\\python\\eager\\polymorphic_function\\monomorphic_function.py\u001b[0m in \u001b[0;36mcall\u001b[1;34m(self, ctx, args, cancellation_manager)\u001b[0m\n\u001b[0;32m    376\u001b[0m       \u001b[1;32mwith\u001b[0m \u001b[0m_InterpolateFunctionError\u001b[0m\u001b[1;33m(\u001b[0m\u001b[0mself\u001b[0m\u001b[1;33m)\u001b[0m\u001b[1;33m:\u001b[0m\u001b[1;33m\u001b[0m\u001b[1;33m\u001b[0m\u001b[0m\n\u001b[0;32m    377\u001b[0m         \u001b[1;32mif\u001b[0m \u001b[0mcancellation_manager\u001b[0m \u001b[1;32mis\u001b[0m \u001b[1;32mNone\u001b[0m\u001b[1;33m:\u001b[0m\u001b[1;33m\u001b[0m\u001b[1;33m\u001b[0m\u001b[0m\n\u001b[1;32m--> 378\u001b[1;33m           outputs = execute.execute(\n\u001b[0m\u001b[0;32m    379\u001b[0m               \u001b[0mstr\u001b[0m\u001b[1;33m(\u001b[0m\u001b[0mself\u001b[0m\u001b[1;33m.\u001b[0m\u001b[0msignature\u001b[0m\u001b[1;33m.\u001b[0m\u001b[0mname\u001b[0m\u001b[1;33m)\u001b[0m\u001b[1;33m,\u001b[0m\u001b[1;33m\u001b[0m\u001b[1;33m\u001b[0m\u001b[0m\n\u001b[0;32m    380\u001b[0m               \u001b[0mnum_outputs\u001b[0m\u001b[1;33m=\u001b[0m\u001b[0mself\u001b[0m\u001b[1;33m.\u001b[0m\u001b[0m_num_outputs\u001b[0m\u001b[1;33m,\u001b[0m\u001b[1;33m\u001b[0m\u001b[1;33m\u001b[0m\u001b[0m\n",
      "\u001b[1;32mc:\\Users\\Tober\\anaconda3\\lib\\site-packages\\tensorflow\\python\\eager\\execute.py\u001b[0m in \u001b[0;36mquick_execute\u001b[1;34m(op_name, num_outputs, inputs, attrs, ctx, name)\u001b[0m\n\u001b[0;32m     50\u001b[0m   \u001b[1;32mtry\u001b[0m\u001b[1;33m:\u001b[0m\u001b[1;33m\u001b[0m\u001b[1;33m\u001b[0m\u001b[0m\n\u001b[0;32m     51\u001b[0m     \u001b[0mctx\u001b[0m\u001b[1;33m.\u001b[0m\u001b[0mensure_initialized\u001b[0m\u001b[1;33m(\u001b[0m\u001b[1;33m)\u001b[0m\u001b[1;33m\u001b[0m\u001b[1;33m\u001b[0m\u001b[0m\n\u001b[1;32m---> 52\u001b[1;33m     tensors = pywrap_tfe.TFE_Py_Execute(ctx._handle, device_name, op_name,\n\u001b[0m\u001b[0;32m     53\u001b[0m                                         inputs, attrs, num_outputs)\n\u001b[0;32m     54\u001b[0m   \u001b[1;32mexcept\u001b[0m \u001b[0mcore\u001b[0m\u001b[1;33m.\u001b[0m\u001b[0m_NotOkStatusException\u001b[0m \u001b[1;32mas\u001b[0m \u001b[0me\u001b[0m\u001b[1;33m:\u001b[0m\u001b[1;33m\u001b[0m\u001b[1;33m\u001b[0m\u001b[0m\n",
      "\u001b[1;31mKeyboardInterrupt\u001b[0m: "
     ]
    }
   ],
   "source": [
    "logdir = 'logs'\n",
    "tensorboard_callback = tf.keras.callbacks.TensorBoard(log_dir=logdir)\n",
    "hist = model.fit(x = X_train_pic, y = Y_train_est, epochs=3, validation_data=valData, callbacks=[tensorboard_callback])"
   ]
  },
  {
   "cell_type": "code",
   "execution_count": 30,
   "metadata": {},
   "outputs": [
    {
     "data": {
      "image/png": "[encoded data removed]",
      "text/plain": [
       "<Figure size 640x480 with 1 Axes>"
      ]
     },
     "metadata": {},
     "output_type": "display_data"
    }
   ],
   "source": [
    "fig = plt.figure()\n",
    "plt.plot(hist.history['loss'], color='teal', label='loss')\n",
    "plt.plot(hist.history['val_loss'], color='orange', label='val_loss')\n",
    "fig.suptitle('Loss', fontsize=20)\n",
    "plt.legend(loc='upper left')\n",
    "plt.show()"
   ]
  },
  {
   "cell_type": "code",
   "execution_count": 32,
   "metadata": {},
   "outputs": [
    {
     "data": {
      "image/png": "[encoded data removed]",
      "text/plain": [
       "<Figure size 640x480 with 1 Axes>"
      ]
     },
     "metadata": {},
     "output_type": "display_data"
    }
   ],
   "source": [
    "fig = plt.figure()\n",
    "plt.plot(hist.history['accuracy'], color='teal', label='accuracy')\n",
    "plt.plot(hist.history['val_accuracy'], color='orange', label='val_accuracy')\n",
    "fig.suptitle('Accuracy', fontsize=20)\n",
    "plt.legend(loc='upper left')\n",
    "plt.show()"
   ]
  },
  {
   "cell_type": "code",
   "execution_count": 34,
   "metadata": {},
   "outputs": [
    {
     "name": "stdout",
     "output_type": "stream",
     "text": [
      "3/3 [==============================] - 4s 1s/step\n"
     ]
    }
   ],
   "source": [
    "results = model.predict(X_test_pic)"
   ]
  },
  {
   "cell_type": "code",
   "execution_count": 36,
   "metadata": {},
   "outputs": [],
   "source": [
    "results = 10**results"
   ]
  },
  {
   "cell_type": "code",
   "execution_count": 39,
   "metadata": {},
   "outputs": [],
   "source": [
    "Y_test_est = 10**Y_test_est \n"
   ]
  },
  {
   "cell_type": "code",
   "execution_count": 40,
   "metadata": {},
   "outputs": [
    {
     "data": {
      "text/plain": [
       "array([2127829.29481397,  720996.49667103, 7098799.78526157,\n",
       "        431310.07519054,  603592.05668205,  431310.07519054,\n",
       "         87426.36517613,  720996.49667103,  431310.07519054,\n",
       "       3556971.08720944,  222386.04472836,  222386.04472836,\n",
       "        222386.04472836,  431310.07519054, 1097121.46307219,\n",
       "       5412549.63279696,  317145.24952481,  431310.07519054,\n",
       "        431310.07519054, 1564607.44013887, 7718849.47167222,\n",
       "        146145.67716932, 2127829.29481397, 2127829.29481397,\n",
       "       2127829.29481397, 1097121.46307219, 5412549.63279696,\n",
       "        720996.49667103,  222386.04472836, 1097121.46307219,\n",
       "       3271242.13041477, 1097121.46307219,  720996.49667103,\n",
       "       2127829.29481397, 1564607.44013887,  720996.49667103,\n",
       "       2790742.84133503,  720996.49667103,  720996.49667103,\n",
       "        720996.49667103, 7718849.47167222, 1097121.46307219,\n",
       "       7718849.47167222,  222386.04472836, 2790742.84133503,\n",
       "        720996.49667103,  860784.01934546, 1097121.46307219,\n",
       "        431310.07519054,  603592.05668205,  317145.24952481,\n",
       "       3556971.08720944, 3556971.08720944,  146145.67716932,\n",
       "        431310.07519054, 7718849.47167222, 7098799.78526157,\n",
       "       1097121.46307219, 1097121.46307219, 7718849.47167222,\n",
       "        431310.07519054, 2790742.84133503, 3556971.08720944,\n",
       "        720996.49667103,  431310.07519054,  431310.07519054,\n",
       "       4429865.24005022,  317145.24952481, 1097121.46307219,\n",
       "         82475.43496262,  396663.24371013, 1097121.46307219,\n",
       "       7718849.47167222, 1956902.28142593, 1346015.96191915,\n",
       "        720996.49667103, 2127829.29481397, 2127829.29481397,\n",
       "        603592.05668205, 2127829.29481397,  431310.07519054,\n",
       "        146145.67716932,   80403.46746185,  237289.43796519,\n",
       "        431310.07519054])"
      ]
     },
     "execution_count": 40,
     "metadata": {},
     "output_type": "execute_result"
    }
   ],
   "source": [
    "Y_test_est"
   ]
  }
 ],
 "metadata": {
  "kernelspec": {
   "display_name": "base",
   "language": "python",
   "name": "python3"
  },
  "language_info": {
   "codemirror_mode": {
    "name": "ipython",
    "version": 3
   },
   "file_extension": ".py",
   "mimetype": "text/x-python",
   "name": "python",
   "nbconvert_exporter": "python",
   "pygments_lexer": "ipython3",
   "version": "3.9.13"
  },
  "orig_nbformat": 4
 },
 "nbformat": 4,
 "nbformat_minor": 2
}
