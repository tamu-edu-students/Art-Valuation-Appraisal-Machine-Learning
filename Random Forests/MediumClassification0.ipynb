{
 "cells": [
  {
   "attachments": {},
   "cell_type": "markdown",
   "metadata": {},
   "source": [
    "# 1 - Importing Dependecies "
   ]
  },
  {
   "cell_type": "code",
   "execution_count": 1,
   "metadata": {},
   "outputs": [],
   "source": [
    "from matplotlib import pyplot as plt\n",
    "import matplotlib as mpl\n",
    "import tensorflow as tf\n",
    "import pandas as pd\n",
    "import numpy as np \n",
    "import random\n",
    "import cv2\n",
    "import os\n",
    "\n",
    "\n",
    "\n",
    "\n",
    "import time"
   ]
  },
  {
   "attachments": {},
   "cell_type": "markdown",
   "metadata": {},
   "source": [
    "# 1.1 - Data Pipeline "
   ]
  },
  {
   "cell_type": "code",
   "execution_count": 2,
   "metadata": {},
   "outputs": [
    {
     "name": "stdout",
     "output_type": "stream",
     "text": [
      "#1 - Initialzing DataFrame...\n",
      "\n",
      "Numbers of Images succefully imported: 2493\n"
     ]
    }
   ],
   "source": [
    "os.listdir()\n",
    "\n",
    "## Data Directory Path\n",
    "print('#1 - Initialzing DataFrame...\\n')\n",
    "imageID_Path = os.listdir('data/Modern_Contemporary')\n",
    "\n",
    "## Creating data frame based on directory contents \n",
    "imagePath_df = pd.DataFrame({'ID':[n.split('.')[0] for n in imageID_Path],\n",
    "                                'Path':['data/Modern_Contemporary/' + n for n in imageID_Path]})\n",
    "\n",
    "## Extracting features of images from the CSV file\n",
    "csv_dataPath = os.path.join('data/Modern_Contemporary','data.csv')\n",
    "imageFeatures_df = pd.read_csv(csv_dataPath, sep=',')\n",
    "\n",
    "## COnvoerting all values to integer values\n",
    "imagePath_df[\"ID\"]= pd.to_numeric(imagePath_df[\"ID\"],errors='coerce')\n",
    "\n",
    "\n",
    "\n",
    "## Error handling for none JPEG Images\n",
    "\n",
    "for i,row in imagePath_df.iterrows():\n",
    "    picture_Path = row['Path']\n",
    "    # print(picture_Path)\n",
    "    extCheck = len(picture_Path)\n",
    "    path = picture_Path[extCheck-4:]\n",
    "    if (path != 'JPEG'):\n",
    "        imagePath_df.drop(i, inplace=True)\n",
    "\n",
    "\n",
    "print( \"Numbers of Images succefully imported:\",len(imagePath_df))\n",
    "\n",
    "\n"
   ]
  },
  {
   "cell_type": "code",
   "execution_count": 3,
   "metadata": {},
   "outputs": [
    {
     "name": "stdout",
     "output_type": "stream",
     "text": [
      "Merging Dataframes...\n"
     ]
    }
   ],
   "source": [
    "merged_df = pd.merge(left=imagePath_df, right=imageFeatures_df, on='ID', how='inner', )\n",
    "\n",
    "print('Merging Dataframes...')"
   ]
  },
  {
   "attachments": {},
   "cell_type": "markdown",
   "metadata": {},
   "source": [
    "# 2 - Cleaning Data"
   ]
  },
  {
   "cell_type": "code",
   "execution_count": 4,
   "metadata": {},
   "outputs": [
    {
     "name": "stdout",
     "output_type": "stream",
     "text": [
      "Cleaning Data...\n"
     ]
    }
   ],
   "source": [
    "## Validating the data\n",
    "print('Cleaning Data...')\n",
    "\n",
    "for i, row in merged_df.iterrows():\n",
    "    if(merged_df.loc[i, 'Hammer Price'] == 'Not Sold'): \n",
    "        merged_df.loc[i, 'Hammer Price'] = 0.0\n",
    "merged_df['Hammer Price'] = pd.to_numeric(merged_df['Hammer Price'], errors='coerce')\n",
    "\n",
    "merged_df['Low Estimation Price'] = merged_df['Low Estimation Price'].replace(np.nan, 0)\n"
   ]
  },
  {
   "attachments": {},
   "cell_type": "markdown",
   "metadata": {},
   "source": [
    "# 3 - Loading Images to dataframe"
   ]
  },
  {
   "cell_type": "code",
   "execution_count": 5,
   "metadata": {},
   "outputs": [],
   "source": [
    "# ##Creating List for Compressed Numpy array data paths\n",
    "\n",
    "images = []\n",
    "id = []\n",
    "IMAGE_RESIZE = (256,256)\n",
    "\n",
    "\n",
    "for i, row in merged_df.iterrows():\n",
    "\n",
    "    ## ASsigning iamge path the picture path\n",
    "    picture_Path = row['Path']\n",
    "    iD = row = row[\"ID\"]\n",
    "\n",
    "    # Reading Image Path, Color Correcting, and then resizing\n",
    "    pic_bgr_arr = cv2.imread(picture_Path)\n",
    "    pic_rgb_arr = cv2.cvtColor(pic_bgr_arr, cv2.COLOR_BGR2RGB)\n",
    "    pic_rgb_arr = cv2.resize(pic_rgb_arr, IMAGE_RESIZE)\n",
    "    # pic_rgb_arr = pic_rgb_arr / 255.0\n",
    "\n",
    "    # Append to Image List\n",
    "    images.append(pic_rgb_arr)\n",
    "    id.append(iD)\n",
    "\n",
    "# ZIP contents to load into datafram\n",
    "dfData = list(zip(id, images))\n",
    "images_df = pd.DataFrame(dfData, columns=['ID', 'Image'])\n"
   ]
  },
  {
   "cell_type": "code",
   "execution_count": 6,
   "metadata": {},
   "outputs": [
    {
     "data": {
      "text/plain": [
       "2493"
      ]
     },
     "execution_count": 6,
     "metadata": {},
     "output_type": "execute_result"
    }
   ],
   "source": [
    "len(images)"
   ]
  },
  {
   "cell_type": "code",
   "execution_count": 7,
   "metadata": {},
   "outputs": [],
   "source": [
    "# // merging with dataframe\n",
    "merged_df = pd.merge(left=merged_df, right=images_df, on='ID', how='inner')\n",
    "\n"
   ]
  },
  {
   "cell_type": "code",
   "execution_count": 8,
   "metadata": {},
   "outputs": [],
   "source": [
    "merged_df.drop(['Low Estimation Price', 'High Estimation Price', 'Hammer Price', 'Size', 'Path', 'ID', 'Artist' ],inplace=True, axis=1)"
   ]
  },
  {
   "cell_type": "code",
   "execution_count": 9,
   "metadata": {},
   "outputs": [
    {
     "data": {
      "text/html": [
       "<div>\n",
       "<style scoped>\n",
       "    .dataframe tbody tr th:only-of-type {\n",
       "        vertical-align: middle;\n",
       "    }\n",
       "\n",
       "    .dataframe tbody tr th {\n",
       "        vertical-align: top;\n",
       "    }\n",
       "\n",
       "    .dataframe thead th {\n",
       "        text-align: right;\n",
       "    }\n",
       "</style>\n",
       "<table border=\"1\" class=\"dataframe\">\n",
       "  <thead>\n",
       "    <tr style=\"text-align: right;\">\n",
       "      <th></th>\n",
       "      <th>Medium</th>\n",
       "      <th>Image</th>\n",
       "    </tr>\n",
       "  </thead>\n",
       "  <tbody>\n",
       "    <tr>\n",
       "      <th>0</th>\n",
       "      <td>Oil on canvas</td>\n",
       "      <td>[[[0.5686274509803921, 0.8235294117647058, 0.8...</td>\n",
       "    </tr>\n",
       "    <tr>\n",
       "      <th>1</th>\n",
       "      <td>Silkscreen in colours</td>\n",
       "      <td>[[[0.34901960784313724, 0.396078431372549, 0.4...</td>\n",
       "    </tr>\n",
       "    <tr>\n",
       "      <th>2</th>\n",
       "      <td>Oil on panel</td>\n",
       "      <td>[[[0.10588235294117647, 0.13725490196078433, 0...</td>\n",
       "    </tr>\n",
       "    <tr>\n",
       "      <th>3</th>\n",
       "      <td>Acrylic on canvas</td>\n",
       "      <td>[[[0.5411764705882353, 0.7254901960784313, 0.6...</td>\n",
       "    </tr>\n",
       "    <tr>\n",
       "      <th>4</th>\n",
       "      <td>Oil on plate</td>\n",
       "      <td>[[[0.03137254901960784, 0.0392156862745098, 0....</td>\n",
       "    </tr>\n",
       "  </tbody>\n",
       "</table>\n",
       "</div>"
      ],
      "text/plain": [
       "                  Medium                                              Image\n",
       "0          Oil on canvas  [[[0.5686274509803921, 0.8235294117647058, 0.8...\n",
       "1  Silkscreen in colours  [[[0.34901960784313724, 0.396078431372549, 0.4...\n",
       "2           Oil on panel  [[[0.10588235294117647, 0.13725490196078433, 0...\n",
       "3      Acrylic on canvas  [[[0.5411764705882353, 0.7254901960784313, 0.6...\n",
       "4           Oil on plate  [[[0.03137254901960784, 0.0392156862745098, 0...."
      ]
     },
     "execution_count": 9,
     "metadata": {},
     "output_type": "execute_result"
    }
   ],
   "source": [
    "merged_df.head()"
   ]
  },
  {
   "attachments": {},
   "cell_type": "markdown",
   "metadata": {},
   "source": [
    "# 4 - One hot encoding"
   ]
  },
  {
   "cell_type": "code",
   "execution_count": 24,
   "metadata": {},
   "outputs": [],
   "source": [
    "\n",
    "\n",
    "from sklearn.preprocessing import OneHotEncoder\n",
    "\n",
    "#creating instance of one-hot-encoder\n",
    "encoder = OneHotEncoder(handle_unknown='ignore')\n",
    "\n",
    "#perform one-hot encoding on 'team' column \n",
    "encoder_df = pd.DataFrame(encoder.fit_transform(merged_df[['Medium']]).toarray(), columns=encoder.categories_)\n",
    "len(encoder_df)\n",
    "\n",
    "labels = encoder.categories_\n",
    "#merge one-hot encoded columns back with original DataFrame\n",
    "\n",
    "#view final df\n",
    "# print(en_df)\n",
    "# features_df.tail()\n"
   ]
  },
  {
   "cell_type": "code",
   "execution_count": 28,
   "metadata": {},
   "outputs": [],
   "source": [
    "labels = np.array(labels).ravel()"
   ]
  },
  {
   "cell_type": "code",
   "execution_count": 29,
   "metadata": {},
   "outputs": [
    {
     "data": {
      "text/plain": [
       "475"
      ]
     },
     "execution_count": 29,
     "metadata": {},
     "output_type": "execute_result"
    }
   ],
   "source": []
  },
  {
   "cell_type": "code",
   "execution_count": 11,
   "metadata": {},
   "outputs": [],
   "source": [
    "encoder_Arr = encoder_df.to_numpy()\n",
    "encoderLen = len(encoder_Arr)\n",
    "encoderSeries = []\n"
   ]
  },
  {
   "cell_type": "code",
   "execution_count": 12,
   "metadata": {},
   "outputs": [],
   "source": [
    "for i in range(encoderLen): \n",
    "    encoderSeries.append(encoder_Arr[i])\n",
    "    # print(np.array_str(encoder_Arr[i], max_line_width=np.inf))\n",
    "\n"
   ]
  },
  {
   "cell_type": "code",
   "execution_count": 13,
   "metadata": {},
   "outputs": [],
   "source": [
    "merged_df['OneHot'] = pd.Series(encoderSeries)"
   ]
  },
  {
   "cell_type": "code",
   "execution_count": 14,
   "metadata": {},
   "outputs": [
    {
     "data": {
      "text/plain": [
       "(1440, 720, 333)"
      ]
     },
     "execution_count": 14,
     "metadata": {},
     "output_type": "execute_result"
    }
   ],
   "source": [
    "\n",
    "shuffled_df = merged_df.sample(frac=1)\n",
    "\n",
    "\n",
    "\n",
    "train_df, val_df, test_df = shuffled_df[:1440], shuffled_df[1440:2160], shuffled_df[2160:]\n",
    "\n",
    "len(train_df), len(val_df), len(test_df)\n"
   ]
  },
  {
   "cell_type": "code",
   "execution_count": 15,
   "metadata": {},
   "outputs": [
    {
     "data": {
      "text/html": [
       "<div>\n",
       "<style scoped>\n",
       "    .dataframe tbody tr th:only-of-type {\n",
       "        vertical-align: middle;\n",
       "    }\n",
       "\n",
       "    .dataframe tbody tr th {\n",
       "        vertical-align: top;\n",
       "    }\n",
       "\n",
       "    .dataframe thead th {\n",
       "        text-align: right;\n",
       "    }\n",
       "</style>\n",
       "<table border=\"1\" class=\"dataframe\">\n",
       "  <thead>\n",
       "    <tr style=\"text-align: right;\">\n",
       "      <th></th>\n",
       "      <th>Medium</th>\n",
       "      <th>Image</th>\n",
       "      <th>OneHot</th>\n",
       "    </tr>\n",
       "  </thead>\n",
       "  <tbody>\n",
       "    <tr>\n",
       "      <th>1395</th>\n",
       "      <td>Oil on velvet</td>\n",
       "      <td>[[[1.0, 1.0, 1.0], [1.0, 1.0, 1.0], [1.0, 1.0,...</td>\n",
       "      <td>[0.0, 0.0, 0.0, 0.0, 0.0, 0.0, 0.0, 0.0, 0.0, ...</td>\n",
       "    </tr>\n",
       "    <tr>\n",
       "      <th>1702</th>\n",
       "      <td>Serigraph in colours</td>\n",
       "      <td>[[[0.9254901960784314, 0.9137254901960784, 0.8...</td>\n",
       "      <td>[0.0, 0.0, 0.0, 0.0, 0.0, 0.0, 0.0, 0.0, 0.0, ...</td>\n",
       "    </tr>\n",
       "    <tr>\n",
       "      <th>773</th>\n",
       "      <td>on canvas</td>\n",
       "      <td>[[[0.6392156862745098, 0.615686274509804, 0.51...</td>\n",
       "      <td>[0.0, 0.0, 0.0, 0.0, 0.0, 0.0, 0.0, 0.0, 0.0, ...</td>\n",
       "    </tr>\n",
       "    <tr>\n",
       "      <th>2217</th>\n",
       "      <td>Serigraph goauche</td>\n",
       "      <td>[[[0.9450980392156862, 0.9058823529411765, 0.8...</td>\n",
       "      <td>[0.0, 0.0, 0.0, 0.0, 0.0, 0.0, 0.0, 0.0, 0.0, ...</td>\n",
       "    </tr>\n",
       "    <tr>\n",
       "      <th>1756</th>\n",
       "      <td>Watercolor and bodycolour</td>\n",
       "      <td>[[[1.0, 1.0, 1.0], [1.0, 1.0, 1.0], [1.0, 1.0,...</td>\n",
       "      <td>[0.0, 0.0, 0.0, 0.0, 0.0, 0.0, 0.0, 0.0, 0.0, ...</td>\n",
       "    </tr>\n",
       "  </tbody>\n",
       "</table>\n",
       "</div>"
      ],
      "text/plain": [
       "                         Medium  \\\n",
       "1395              Oil on velvet   \n",
       "1702       Serigraph in colours   \n",
       "773                   on canvas   \n",
       "2217          Serigraph goauche   \n",
       "1756  Watercolor and bodycolour   \n",
       "\n",
       "                                                  Image  \\\n",
       "1395  [[[1.0, 1.0, 1.0], [1.0, 1.0, 1.0], [1.0, 1.0,...   \n",
       "1702  [[[0.9254901960784314, 0.9137254901960784, 0.8...   \n",
       "773   [[[0.6392156862745098, 0.615686274509804, 0.51...   \n",
       "2217  [[[0.9450980392156862, 0.9058823529411765, 0.8...   \n",
       "1756  [[[1.0, 1.0, 1.0], [1.0, 1.0, 1.0], [1.0, 1.0,...   \n",
       "\n",
       "                                                 OneHot  \n",
       "1395  [0.0, 0.0, 0.0, 0.0, 0.0, 0.0, 0.0, 0.0, 0.0, ...  \n",
       "1702  [0.0, 0.0, 0.0, 0.0, 0.0, 0.0, 0.0, 0.0, 0.0, ...  \n",
       "773   [0.0, 0.0, 0.0, 0.0, 0.0, 0.0, 0.0, 0.0, 0.0, ...  \n",
       "2217  [0.0, 0.0, 0.0, 0.0, 0.0, 0.0, 0.0, 0.0, 0.0, ...  \n",
       "1756  [0.0, 0.0, 0.0, 0.0, 0.0, 0.0, 0.0, 0.0, 0.0, ...  "
      ]
     },
     "execution_count": 15,
     "metadata": {},
     "output_type": "execute_result"
    }
   ],
   "source": [
    "train_df.head()"
   ]
  },
  {
   "cell_type": "code",
   "execution_count": 16,
   "metadata": {},
   "outputs": [],
   "source": [
    "\n",
    "\n",
    "def get_X_y(df):\n",
    "\n",
    "    dfArr = np.array(df)\n",
    "\n",
    "    x_pic = []\n",
    "    y_medium = []\n",
    "\n",
    "    for i in range(len(df)): \n",
    "\n",
    "        pic = dfArr[i, 1]\n",
    "        x_pic.append(pic)\n",
    "\n",
    "\n",
    "        medium = dfArr[i, 2]\n",
    "        y_medium.append(medium)\n",
    "\n",
    "    X_pic = np.asarray(x_pic)\n",
    "    Y_medium = np.asarray(y_medium)\n",
    "\n",
    "\n",
    "    return X_pic, Y_medium  \n",
    "\n"
   ]
  },
  {
   "cell_type": "code",
   "execution_count": 17,
   "metadata": {},
   "outputs": [],
   "source": [
    "X_train_pic, Y_train_med = get_X_y(train_df)\n",
    "\n",
    "X_val_pic,  Y_val_med = get_X_y(val_df)\n",
    "\n",
    "X_test_pic, Y_test_med = get_X_y(test_df)"
   ]
  },
  {
   "cell_type": "code",
   "execution_count": 34,
   "metadata": {},
   "outputs": [],
   "source": [
    "# Y_train_art[0]\n",
    "X_train_picTensor = tf.convert_to_tensor(X_train_pic, dtype=\"float64\")\n",
    "Y_trainMedTensor = tf.convert_to_tensor(Y_train_med, dtype=\"int32\")\n",
    "\n",
    "X_val_picTensor = tf.convert_to_tensor(X_val_pic, dtype=\"float64\")\n",
    "Y_valMedTensor = tf.convert_to_tensor(Y_val_med, dtype=\"int32\")\n",
    "\n"
   ]
  },
  {
   "attachments": {},
   "cell_type": "markdown",
   "metadata": {},
   "source": [
    "# 5 - Modeling"
   ]
  },
  {
   "cell_type": "code",
   "execution_count": 19,
   "metadata": {},
   "outputs": [],
   "source": [
    "from tensorflow.keras.models import Sequential\n",
    "from tensorflow.keras.layers import BatchNormalization\n",
    "from tensorflow.keras.layers import Conv2D\n",
    "from tensorflow.keras.layers import MaxPooling2D\n",
    "from tensorflow.keras.layers import Activation\n",
    "from tensorflow.keras.layers import Flatten\n",
    "from tensorflow.keras.layers import Dropout\n",
    "from tensorflow.keras.layers import Dense\n",
    "from tensorflow.keras import backend as K\n",
    "import tensorflow as tf"
   ]
  },
  {
   "cell_type": "code",
   "execution_count": 31,
   "metadata": {},
   "outputs": [],
   "source": [
    "model = Sequential()\n",
    "\n",
    "model.add(Conv2D(32, (3,3), 1, activation='relu', input_shape=(256,256,3)))\n",
    "model.add(MaxPooling2D())\n",
    "# MaxPool condesing wach 2x2 patch and taking max value\n",
    "model.add(Dropout(0.2))\n",
    "\n",
    "model.add(Conv2D(128,  (3,3), 1, activation='relu'))\n",
    "model.add(MaxPooling2D())\n",
    "model.add(Dropout(0.2))\n",
    "\n",
    "\n",
    "model.add(Conv2D(64,  (3,3), 1, activation='relu'))\n",
    "model.add(MaxPooling2D())\n",
    "model.add(Dropout(0.2))\n",
    "\n",
    "\n",
    "model.add(Conv2D(32,  (3,3), 1, activation='relu'))\n",
    "model.add(MaxPooling2D())\n",
    "model.add(Dropout(0.2))\n",
    "\n",
    "\n",
    "model.add(Conv2D(16,  (3,3), 1, activation='relu'))\n",
    "model.add(MaxPooling2D())\n",
    "model.add(Dropout(0.2))\n",
    "\n",
    "model.add(Flatten())\n",
    "\n",
    "model.add(Dense(256, activation='relu'))\n",
    "model.add(Dense(len(labels), activation='sigmoid'))\n",
    "\n",
    "model.compile(optimizer='adam', loss='categorical_crossentropy', metrics=['accuracy'])\n"
   ]
  },
  {
   "cell_type": "code",
   "execution_count": 32,
   "metadata": {},
   "outputs": [
    {
     "name": "stdout",
     "output_type": "stream",
     "text": [
      "Model: \"sequential_3\"\n",
      "_________________________________________________________________\n",
      " Layer (type)                Output Shape              Param #   \n",
      "=================================================================\n",
      " conv2d_15 (Conv2D)          (None, 254, 254, 32)      896       \n",
      "                                                                 \n",
      " max_pooling2d_15 (MaxPoolin  (None, 127, 127, 32)     0         \n",
      " g2D)                                                            \n",
      "                                                                 \n",
      " dropout_15 (Dropout)        (None, 127, 127, 32)      0         \n",
      "                                                                 \n",
      " conv2d_16 (Conv2D)          (None, 125, 125, 128)     36992     \n",
      "                                                                 \n",
      " max_pooling2d_16 (MaxPoolin  (None, 62, 62, 128)      0         \n",
      " g2D)                                                            \n",
      "                                                                 \n",
      " dropout_16 (Dropout)        (None, 62, 62, 128)       0         \n",
      "                                                                 \n",
      " conv2d_17 (Conv2D)          (None, 60, 60, 64)        73792     \n",
      "                                                                 \n",
      " max_pooling2d_17 (MaxPoolin  (None, 30, 30, 64)       0         \n",
      " g2D)                                                            \n",
      "                                                                 \n",
      " dropout_17 (Dropout)        (None, 30, 30, 64)        0         \n",
      "                                                                 \n",
      " conv2d_18 (Conv2D)          (None, 28, 28, 32)        18464     \n",
      "                                                                 \n",
      " max_pooling2d_18 (MaxPoolin  (None, 14, 14, 32)       0         \n",
      " g2D)                                                            \n",
      "                                                                 \n",
      " dropout_18 (Dropout)        (None, 14, 14, 32)        0         \n",
      "                                                                 \n",
      " conv2d_19 (Conv2D)          (None, 12, 12, 16)        4624      \n",
      "                                                                 \n",
      " max_pooling2d_19 (MaxPoolin  (None, 6, 6, 16)         0         \n",
      " g2D)                                                            \n",
      "                                                                 \n",
      " dropout_19 (Dropout)        (None, 6, 6, 16)          0         \n",
      "                                                                 \n",
      " flatten_3 (Flatten)         (None, 576)               0         \n",
      "                                                                 \n",
      " dense_6 (Dense)             (None, 256)               147712    \n",
      "                                                                 \n",
      " dense_7 (Dense)             (None, 475)               122075    \n",
      "                                                                 \n",
      "=================================================================\n",
      "Total params: 404,555\n",
      "Trainable params: 404,555\n",
      "Non-trainable params: 0\n",
      "_________________________________________________________________\n"
     ]
    }
   ],
   "source": [
    "model.summary()"
   ]
  },
  {
   "cell_type": "code",
   "execution_count": 35,
   "metadata": {},
   "outputs": [
    {
     "name": "stdout",
     "output_type": "stream",
     "text": [
      "Epoch 1/3\n",
      "45/45 [==============================] - 121s 3s/step - loss: 3.7659 - accuracy: 0.3528 - val_loss: 4.6413 - val_accuracy: 0.3444\n",
      "Epoch 2/3\n",
      "45/45 [==============================] - 159s 3s/step - loss: 3.6510 - accuracy: 0.3528 - val_loss: 4.5884 - val_accuracy: 0.3444\n",
      "Epoch 3/3\n",
      "45/45 [==============================] - 133s 3s/step - loss: 3.6273 - accuracy: 0.3528 - val_loss: 4.6513 - val_accuracy: 0.3444\n"
     ]
    }
   ],
   "source": [
    "logdir = 'logs'\n",
    "tensorboard_callback = tf.keras.callbacks.TensorBoard(log_dir=logdir)\n",
    "hist = model.fit(x = X_train_picTensor, y = Y_trainMedTensor, epochs=3, validation_data=[X_val_picTensor, Y_valMedTensor], callbacks=[tensorboard_callback])"
   ]
  },
  {
   "cell_type": "code",
   "execution_count": 36,
   "metadata": {},
   "outputs": [
    {
     "data": {
      "image/png": "[encoded data removed]",
      "text/plain": [
       "<Figure size 640x480 with 1 Axes>"
      ]
     },
     "metadata": {},
     "output_type": "display_data"
    }
   ],
   "source": [
    "fig = plt.figure()\n",
    "plt.plot(hist.history['loss'], color='teal', label='loss')\n",
    "plt.plot(hist.history['val_loss'], color='orange', label='val_loss')\n",
    "fig.suptitle('Loss', fontsize=20)\n",
    "plt.legend(loc='upper left')\n",
    "plt.show()"
   ]
  },
  {
   "cell_type": "code",
   "execution_count": 37,
   "metadata": {},
   "outputs": [
    {
     "data": {
      "image/png": "[encoded data removed]",
      "text/plain": [
       "<Figure size 640x480 with 1 Axes>"
      ]
     },
     "metadata": {},
     "output_type": "display_data"
    }
   ],
   "source": [
    "fig = plt.figure()\n",
    "plt.plot(hist.history['accuracy'], color='teal', label='accuracy')\n",
    "plt.plot(hist.history['val_accuracy'], color='orange', label='val_accuracy')\n",
    "fig.suptitle('Accuracy', fontsize=20)\n",
    "plt.legend(loc='upper left')\n",
    "plt.show()"
   ]
  },
  {
   "cell_type": "code",
   "execution_count": null,
   "metadata": {},
   "outputs": [],
   "source": []
  }
 ],
 "metadata": {
  "kernelspec": {
   "display_name": "base",
   "language": "python",
   "name": "python3"
  },
  "language_info": {
   "codemirror_mode": {
    "name": "ipython",
    "version": 3
   },
   "file_extension": ".py",
   "mimetype": "text/x-python",
   "name": "python",
   "nbconvert_exporter": "python",
   "pygments_lexer": "ipython3",
   "version": "3.9.13"
  },
  "orig_nbformat": 4
 },
 "nbformat": 4,
 "nbformat_minor": 2
}
