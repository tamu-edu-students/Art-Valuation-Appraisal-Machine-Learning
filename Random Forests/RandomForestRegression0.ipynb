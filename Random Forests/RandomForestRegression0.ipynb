{
 "cells": [
  {
   "attachments": {},
   "cell_type": "markdown",
   "metadata": {},
   "source": [
    "# 1 - Importing Dependecies "
   ]
  },
  {
   "cell_type": "code",
   "execution_count": 402,
   "metadata": {},
   "outputs": [],
   "source": [
    "from sklearn.ensemble import RandomForestRegressor\n",
    "from sklearn.tree import export_graphviz\n",
    "from matplotlib import pyplot as plt\n",
    "import matplotlib as mpl\n",
    "import tensorflow as tf\n",
    "import pandas as pd\n",
    "import numpy as np \n",
    "import random\n",
    "import cv2\n",
    "import os\n",
    "\n",
    "\n",
    "\n",
    "import time"
   ]
  },
  {
   "attachments": {},
   "cell_type": "markdown",
   "metadata": {},
   "source": [
    "# 1.1 - Data Pipeline "
   ]
  },
  {
   "cell_type": "code",
   "execution_count": 438,
   "metadata": {},
   "outputs": [
    {
     "name": "stdout",
     "output_type": "stream",
     "text": [
      "#1 - Initialzing DataFrame...\n",
      "\n",
      "Numbers of Images succefully imported: 4041\n"
     ]
    }
   ],
   "source": [
    "os.listdir()\n",
    "\n",
    "## Data Directory Path\n",
    "print('#1 - Initialzing DataFrame...\\n')\n",
    "imageID_Path = os.listdir('data/main')\n",
    "\n",
    "## Creating data frame based on directory contents \n",
    "imagePath_df = pd.DataFrame({'ID':[n.split('.')[0] for n in imageID_Path],\n",
    "                                'Path':['data/main/' + n for n in imageID_Path]})\n",
    "\n",
    "## Extracting features of images from the CSV file\n",
    "csv_dataPath = os.path.join('data/main','data.csv')\n",
    "imageFeatures_df = pd.read_csv(csv_dataPath, sep=',')\n",
    "\n",
    "## COnvoerting all values to integer values\n",
    "imagePath_df[\"ID\"]= pd.to_numeric(imagePath_df[\"ID\"],errors='coerce')\n",
    "\n",
    "\n",
    "\n",
    "## Error handling for none JPEG Images\n",
    "\n",
    "for i,row in imagePath_df.iterrows():\n",
    "    picture_Path = row['Path']\n",
    "    # print(picture_Path)\n",
    "    extCheck = len(picture_Path)\n",
    "    path = picture_Path[extCheck-4:]\n",
    "    if (path != 'JPEG'):\n",
    "        imagePath_df.drop(i, inplace=True)\n",
    "\n",
    "\n",
    "print( \"Numbers of Images succefully imported:\",len(imagePath_df))\n",
    "\n",
    "\n"
   ]
  },
  {
   "cell_type": "code",
   "execution_count": 439,
   "metadata": {},
   "outputs": [
    {
     "name": "stdout",
     "output_type": "stream",
     "text": [
      "Merging Dataframes...\n"
     ]
    }
   ],
   "source": [
    "merged_df = pd.merge(left=imagePath_df, right=imageFeatures_df, on='ID', how='inner', )\n",
    "\n",
    "print('Merging Dataframes...')"
   ]
  },
  {
   "cell_type": "code",
   "execution_count": 423,
   "metadata": {},
   "outputs": [
    {
     "data": {
      "text/plain": [
       "3994"
      ]
     },
     "execution_count": 423,
     "metadata": {},
     "output_type": "execute_result"
    }
   ],
   "source": [
    "len(merged_df)"
   ]
  },
  {
   "attachments": {},
   "cell_type": "markdown",
   "metadata": {},
   "source": [
    "# 2 - Cleaning Data"
   ]
  },
  {
   "cell_type": "code",
   "execution_count": 440,
   "metadata": {},
   "outputs": [
    {
     "name": "stdout",
     "output_type": "stream",
     "text": [
      "Cleaning Data...\n"
     ]
    }
   ],
   "source": [
    "## Validating the data\n",
    "print('Cleaning Data...')\n",
    "\n",
    "\n",
    "merged_df['Hammer Price'] = pd.to_numeric(merged_df['Hammer Price'], errors='coerce')\n",
    "\n",
    "merged_df = merged_df.replace(np.nan, 0)\n",
    "\n",
    "# merged_df['Low Estimation Price'].replace(np.nan, 0)\n",
    "\n",
    "means = []\n",
    "\n",
    "for i, row in merged_df.iterrows():\n",
    "\n",
    "    if(row['Low Estimation Price'] == 0 and row['High Estimation Price'] == 0):\n",
    "        mean = row['Hammer Price'] / 2\n",
    "    \n",
    "    elif (row['Low Estimation Price'] == 0):\n",
    "        mean = (row['High Estimation Price']) / 2\n",
    "    else:\n",
    "        mean = (row['Low Estimation Price'] + row['High Estimation Price']) / 2\n",
    "\n",
    "    means.append(np.log(mean)**-1)\n",
    "    \n",
    "    if(row['Hammer Price'] == 0.0): \n",
    "        merged_df.loc[i, 'Hammer Price'] = mean\n",
    "\n",
    "\n",
    "# \n",
    "merged_df['Mean Estimation'] = pd.Series(means)\n"
   ]
  },
  {
   "cell_type": "code",
   "execution_count": 441,
   "metadata": {},
   "outputs": [
    {
     "data": {
      "text/plain": [
       "<AxesSubplot:>"
      ]
     },
     "execution_count": 441,
     "metadata": {},
     "output_type": "execute_result"
    },
    {
     "data": {
      "image/png": "[encoded data removed]",
      "text/plain": [
       "<Figure size 640x480 with 1 Axes>"
      ]
     },
     "metadata": {},
     "output_type": "display_data"
    }
   ],
   "source": [
    "merged_df['Mean Estimation'].hist()"
   ]
  },
  {
   "cell_type": "code",
   "execution_count": 408,
   "metadata": {},
   "outputs": [],
   "source": [
    "# print('Normalizing Data...')\n",
    "# CntRem = 0\n",
    "# for i in range(len(merged_df)): \n",
    "#     if(merged_df.at[i,'Mean Estimation'] > 1000):\n",
    "#         CntRem +=1 \n",
    "#         os.remove(merged_df.at[i,'Path'])\n",
    "#         # merged_df.drop(merged_df.at[merged_df.index[i]], axis=0)\n",
    "\n",
    "#         # print(\"Image\", merged_df.at[i,'ID'],\" to be removed\")\n",
    "\n",
    "# print(\"Total number of files removed\", CntRem)"
   ]
  },
  {
   "cell_type": "code",
   "execution_count": 442,
   "metadata": {},
   "outputs": [],
   "source": [
    "merged_df.drop(['Path', 'ID', 'Low Estimation Price','High Estimation Price', 'Hammer Price'],inplace=True, axis=1)\n"
   ]
  },
  {
   "cell_type": "code",
   "execution_count": 427,
   "metadata": {},
   "outputs": [
    {
     "data": {
      "text/html": [
       "<div>\n",
       "<style scoped>\n",
       "    .dataframe tbody tr th:only-of-type {\n",
       "        vertical-align: middle;\n",
       "    }\n",
       "\n",
       "    .dataframe tbody tr th {\n",
       "        vertical-align: top;\n",
       "    }\n",
       "\n",
       "    .dataframe thead th {\n",
       "        text-align: right;\n",
       "    }\n",
       "</style>\n",
       "<table border=\"1\" class=\"dataframe\">\n",
       "  <thead>\n",
       "    <tr style=\"text-align: right;\">\n",
       "      <th></th>\n",
       "      <th>Artist</th>\n",
       "      <th>Size</th>\n",
       "      <th>Medium</th>\n",
       "      <th>Mean Estimation</th>\n",
       "    </tr>\n",
       "  </thead>\n",
       "  <tbody>\n",
       "    <tr>\n",
       "      <th>0</th>\n",
       "      <td>Ole Kielberg</td>\n",
       "      <td>42cm-59cm(16.54in-23.23in)</td>\n",
       "      <td>Oil on canvas</td>\n",
       "      <td>210.0</td>\n",
       "    </tr>\n",
       "    <tr>\n",
       "      <th>1</th>\n",
       "      <td>Sam Nhlengethwa</td>\n",
       "      <td>30cm-33cm(11.81in-12.99in)</td>\n",
       "      <td>Lithograph on paper</td>\n",
       "      <td>270.0</td>\n",
       "    </tr>\n",
       "    <tr>\n",
       "      <th>2</th>\n",
       "      <td>I. H. Brandt</td>\n",
       "      <td>12cm-17.5cm(4.72in-6.89in)</td>\n",
       "      <td>Oil on mahogany</td>\n",
       "      <td>245.0</td>\n",
       "    </tr>\n",
       "    <tr>\n",
       "      <th>3</th>\n",
       "      <td>Sam Francis</td>\n",
       "      <td>63.2cm-90.5cm(24.88in-35.63in)</td>\n",
       "      <td>Lithograph Three lithographs printed in colors</td>\n",
       "      <td>7000.0</td>\n",
       "    </tr>\n",
       "    <tr>\n",
       "      <th>4</th>\n",
       "      <td>Svend Sinding Christensen</td>\n",
       "      <td>63.5cm-77cm(25in-30.31in)</td>\n",
       "      <td>Oil on canvas</td>\n",
       "      <td>140.0</td>\n",
       "    </tr>\n",
       "  </tbody>\n",
       "</table>\n",
       "</div>"
      ],
      "text/plain": [
       "                      Artist                            Size  \\\n",
       "0               Ole Kielberg      42cm-59cm(16.54in-23.23in)   \n",
       "1            Sam Nhlengethwa      30cm-33cm(11.81in-12.99in)   \n",
       "2               I. H. Brandt      12cm-17.5cm(4.72in-6.89in)   \n",
       "3                Sam Francis  63.2cm-90.5cm(24.88in-35.63in)   \n",
       "4  Svend Sinding Christensen       63.5cm-77cm(25in-30.31in)   \n",
       "\n",
       "                                           Medium  Mean Estimation  \n",
       "0                                   Oil on canvas            210.0  \n",
       "1                             Lithograph on paper            270.0  \n",
       "2                                 Oil on mahogany            245.0  \n",
       "3  Lithograph Three lithographs printed in colors           7000.0  \n",
       "4                                   Oil on canvas            140.0  "
      ]
     },
     "execution_count": 427,
     "metadata": {},
     "output_type": "execute_result"
    }
   ],
   "source": [
    "merged_df.head()"
   ]
  },
  {
   "cell_type": "code",
   "execution_count": 443,
   "metadata": {},
   "outputs": [],
   "source": [
    "from sklearn.preprocessing import LabelEncoder\n",
    "\n",
    "# inputs_df.unique()\n",
    "\n",
    "\n",
    "le = LabelEncoder()\n",
    "\n",
    "merged_df['Artist'] = le.fit_transform(merged_df['Artist'])\n",
    "merged_df['Medium'] = le.fit_transform(merged_df['Medium'])\n",
    "merged_df['Size'] = le.fit_transform(merged_df['Size'])\n",
    "\n"
   ]
  },
  {
   "cell_type": "code",
   "execution_count": 444,
   "metadata": {},
   "outputs": [],
   "source": [
    "X = merged_df.iloc[:3500,0:3].values\n",
    "y = merged_df.iloc[:3500,3].values\n",
    "X_test = merged_df.iloc[3500:,0:3].values\n",
    "y_test = merged_df.iloc[3500:,3].values"
   ]
  },
  {
   "cell_type": "code",
   "execution_count": 362,
   "metadata": {},
   "outputs": [
    {
     "data": {
      "text/plain": [
       "(432, 3)"
      ]
     },
     "execution_count": 362,
     "metadata": {},
     "output_type": "execute_result"
    }
   ],
   "source": [
    "X_test.shape\n",
    "# y[0]"
   ]
  },
  {
   "cell_type": "code",
   "execution_count": 445,
   "metadata": {},
   "outputs": [
    {
     "data": {
      "text/plain": [
       "RandomForestRegressor(random_state=0)"
      ]
     },
     "execution_count": 445,
     "metadata": {},
     "output_type": "execute_result"
    }
   ],
   "source": [
    "regressor = RandomForestRegressor(n_estimators = 100, random_state = 0)\n",
    "regressor.fit(X,y)"
   ]
  },
  {
   "cell_type": "code",
   "execution_count": 307,
   "metadata": {},
   "outputs": [
    {
     "data": {
      "text/plain": [
       "7.033506484287697"
      ]
     },
     "execution_count": 307,
     "metadata": {},
     "output_type": "execute_result"
    }
   ],
   "source": [
    "y_test[1]"
   ]
  },
  {
   "cell_type": "code",
   "execution_count": 446,
   "metadata": {},
   "outputs": [],
   "source": [
    "results = []\n",
    "results_Actual = []\n",
    "for i in range(len(X_test)): \n",
    "    results_Actual.append(y_test[i])\n",
    "    results.append(regressor.predict([X_test[i]]))\n",
    "\n",
    "results = np.array(results)"
   ]
  },
  {
   "cell_type": "code",
   "execution_count": 447,
   "metadata": {},
   "outputs": [],
   "source": [
    "results  =results.flatten()"
   ]
  },
  {
   "cell_type": "code",
   "execution_count": 448,
   "metadata": {},
   "outputs": [],
   "source": [
    "dfData = list(zip(results_Actual, results))\n",
    "results_df = pd.DataFrame(dfData, columns=['Actual Mean Estimation', 'Predicted Estimation'])"
   ]
  },
  {
   "cell_type": "code",
   "execution_count": 449,
   "metadata": {},
   "outputs": [
    {
     "data": {
      "text/html": [
       "<div>\n",
       "<style scoped>\n",
       "    .dataframe tbody tr th:only-of-type {\n",
       "        vertical-align: middle;\n",
       "    }\n",
       "\n",
       "    .dataframe tbody tr th {\n",
       "        vertical-align: top;\n",
       "    }\n",
       "\n",
       "    .dataframe thead th {\n",
       "        text-align: right;\n",
       "    }\n",
       "</style>\n",
       "<table border=\"1\" class=\"dataframe\">\n",
       "  <thead>\n",
       "    <tr style=\"text-align: right;\">\n",
       "      <th></th>\n",
       "      <th>Actual Mean Estimation</th>\n",
       "      <th>Predicted Estimation</th>\n",
       "    </tr>\n",
       "  </thead>\n",
       "  <tbody>\n",
       "    <tr>\n",
       "      <th>0</th>\n",
       "      <td>0.152647</td>\n",
       "      <td>0.164807</td>\n",
       "    </tr>\n",
       "    <tr>\n",
       "      <th>1</th>\n",
       "      <td>0.128142</td>\n",
       "      <td>0.177640</td>\n",
       "    </tr>\n",
       "    <tr>\n",
       "      <th>2</th>\n",
       "      <td>0.133916</td>\n",
       "      <td>0.158549</td>\n",
       "    </tr>\n",
       "    <tr>\n",
       "      <th>3</th>\n",
       "      <td>0.177469</td>\n",
       "      <td>0.175350</td>\n",
       "    </tr>\n",
       "    <tr>\n",
       "      <th>4</th>\n",
       "      <td>0.202362</td>\n",
       "      <td>0.176062</td>\n",
       "    </tr>\n",
       "  </tbody>\n",
       "</table>\n",
       "</div>"
      ],
      "text/plain": [
       "   Actual Mean Estimation  Predicted Estimation\n",
       "0                0.152647              0.164807\n",
       "1                0.128142              0.177640\n",
       "2                0.133916              0.158549\n",
       "3                0.177469              0.175350\n",
       "4                0.202362              0.176062"
      ]
     },
     "execution_count": 449,
     "metadata": {},
     "output_type": "execute_result"
    }
   ],
   "source": [
    "results_df.head()"
   ]
  },
  {
   "cell_type": "code",
   "execution_count": 450,
   "metadata": {},
   "outputs": [
    {
     "data": {
      "text/plain": [
       "array([[<AxesSubplot:title={'center':'Actual Mean Estimation'}>,\n",
       "        <AxesSubplot:title={'center':'Predicted Estimation'}>]],\n",
       "      dtype=object)"
      ]
     },
     "execution_count": 450,
     "metadata": {},
     "output_type": "execute_result"
    },
    {
     "data": {
      "image/png": "[encoded data removed]",
      "text/plain": [
       "<Figure size 640x480 with 2 Axes>"
      ]
     },
     "metadata": {},
     "output_type": "display_data"
    }
   ],
   "source": [
    "results_df.hist()"
   ]
  },
  {
   "cell_type": "code",
   "execution_count": 453,
   "metadata": {},
   "outputs": [],
   "source": [
    "results_df = results_df ** -10"
   ]
  },
  {
   "cell_type": "code",
   "execution_count": 460,
   "metadata": {},
   "outputs": [
    {
     "data": {
      "text/plain": [
       "array([[<AxesSubplot:title={'center':'Actual Mean Estimation'}>,\n",
       "        <AxesSubplot:title={'center':'Predicted Estimation'}>]],\n",
       "      dtype=object)"
      ]
     },
     "execution_count": 460,
     "metadata": {},
     "output_type": "execute_result"
    },
    {
     "data": {
      "image/png": "[encoded data removed]",
      "text/plain": [
       "<Figure size 640x480 with 2 Axes>"
      ]
     },
     "metadata": {},
     "output_type": "display_data"
    }
   ],
   "source": [
    "results_df.hist(bins=50)"
   ]
  },
  {
   "cell_type": "code",
   "execution_count": 452,
   "metadata": {},
   "outputs": [
    {
     "name": "stdout",
     "output_type": "stream",
     "text": [
      "0.9090965855997298\n",
      "0.23973317871260047\n"
     ]
    }
   ],
   "source": [
    "print (regressor.score(X, y))\n",
    "print(regressor.score(X_test, y_test))"
   ]
  },
  {
   "cell_type": "code",
   "execution_count": null,
   "metadata": {},
   "outputs": [],
   "source": []
  }
 ],
 "metadata": {
  "kernelspec": {
   "display_name": "base",
   "language": "python",
   "name": "python3"
  },
  "language_info": {
   "codemirror_mode": {
    "name": "ipython",
    "version": 3
   },
   "file_extension": ".py",
   "mimetype": "text/x-python",
   "name": "python",
   "nbconvert_exporter": "python",
   "pygments_lexer": "ipython3",
   "version": "3.9.13"
  },
  "orig_nbformat": 4
 },
 "nbformat": 4,
 "nbformat_minor": 2
}
