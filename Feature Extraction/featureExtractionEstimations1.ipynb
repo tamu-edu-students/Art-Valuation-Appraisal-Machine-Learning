{
 "cells": [
  {
   "attachments": {},
   "cell_type": "markdown",
   "metadata": {},
   "source": [
    "# 1 - Importing Dependecies "
   ]
  },
  {
   "cell_type": "code",
   "execution_count": 2,
   "metadata": {},
   "outputs": [],
   "source": [
    "from trainingmonitor import TrainingMonitor\n",
    "from matplotlib import pyplot as plt\n",
    "import matplotlib as mpl\n",
    "import tensorflow as tf\n",
    "import pandas as pd\n",
    "import numpy as np \n",
    "import random\n",
    "import cv2\n",
    "import os\n",
    "\n",
    "\n",
    "\n",
    "import time\n",
    "from datetime import datetime"
   ]
  },
  {
   "attachments": {},
   "cell_type": "markdown",
   "metadata": {},
   "source": [
    "# 1.1 - Data Pipeline "
   ]
  },
  {
   "cell_type": "code",
   "execution_count": 3,
   "metadata": {},
   "outputs": [],
   "source": [
    "workingDir = 'E:\\Machine Learning\\Real Data Test\\data\\main\\\\'\n"
   ]
  },
  {
   "cell_type": "code",
   "execution_count": 4,
   "metadata": {},
   "outputs": [
    {
     "name": "stdout",
     "output_type": "stream",
     "text": [
      "#1 - Initialzing DataFrame...\n",
      "\n",
      "Path Dropped: .csv\n",
      "Path Dropped: .csv\n",
      "Numbers of Images succefully imported: 4116\n"
     ]
    }
   ],
   "source": [
    "os.listdir()\n",
    "\n",
    "## Data Directory Path\n",
    "print('#1 - Initialzing DataFrame...\\n')\n",
    "imageID_Path = os.listdir(workingDir)\n",
    "\n",
    "## Creating data frame based on directory contents \n",
    "imagePath_df = pd.DataFrame({'ID':[n.split('.')[0] for n in imageID_Path],\n",
    "                                'Path':[workingDir + n for n in imageID_Path]})\n",
    "\n",
    "## Extracting features of images from the CSV file\n",
    "csv_dataPath = os.path.join(workingDir,'data_compressed.csv')\n",
    "imageFeatures_df = pd.read_csv(csv_dataPath, sep=',', encoding = 'ISO-8859-1')\n",
    "\n",
    "## COnvoerting all values to integer values\n",
    "imagePath_df[\"ID\"]= pd.to_numeric(imagePath_df[\"ID\"],errors='coerce')\n",
    "\n",
    "\n",
    "\n",
    "## Error handling for none JPEG Images\n",
    "\n",
    "for i,row in imagePath_df.iterrows():\n",
    "    picture_Path = row['Path']\n",
    "    # print(picture_Path)\n",
    "    extCheck = len(picture_Path)\n",
    "    path = picture_Path[extCheck-4:]\n",
    "    if (path != 'JPEG'):\n",
    "        print(\"Path Dropped:\", path)\n",
    "        imagePath_df.drop(i, inplace=True)\n",
    "\n",
    "\n",
    "print( \"Numbers of Images succefully imported:\",len(imagePath_df))\n",
    "\n",
    "\n"
   ]
  },
  {
   "cell_type": "code",
   "execution_count": 5,
   "metadata": {},
   "outputs": [
    {
     "name": "stdout",
     "output_type": "stream",
     "text": [
      "Merging Dataframes...\n"
     ]
    }
   ],
   "source": [
    "merged_df = pd.merge(left=imagePath_df, right=imageFeatures_df, on='ID', how='inner', )\n",
    "\n",
    "print('Merging Dataframes...')"
   ]
  },
  {
   "attachments": {},
   "cell_type": "markdown",
   "metadata": {},
   "source": [
    "# 2 - Cleaning Data"
   ]
  },
  {
   "cell_type": "code",
   "execution_count": 6,
   "metadata": {},
   "outputs": [
    {
     "name": "stdout",
     "output_type": "stream",
     "text": [
      "Cleaning Data...\n"
     ]
    }
   ],
   "source": [
    "## Validating the data\n",
    "print('Cleaning Data...')\n",
    "\n",
    "\n",
    "merged_df['Hammer Price'] = pd.to_numeric(merged_df['Hammer Price'], errors='coerce')\n",
    "\n",
    "merged_df = merged_df.replace(np.nan, 0)\n",
    "\n",
    "# merged_df['Low Estimation Price'].replace(np.nan, 0)\n",
    "\n",
    "means = []\n",
    "\n",
    "for i, row in merged_df.iterrows():\n",
    "\n",
    "    if(row['Low Estimation Price'] == 0 and row['High Estimation Price'] == 0):\n",
    "        mean = row['Hammer Price'] / 2\n",
    "    \n",
    "    # elif (row['Low Estimation Price'] == 0):\n",
    "    #     mean = row['High Estimation Price'] / 2\n",
    "    else:\n",
    "        mean = (row['Low Estimation Price'] + row['High Estimation Price']) / 2\n",
    "    means.append(mean)\n",
    "    if(row['Hammer Price'] == 0.0): \n",
    "        merged_df.loc[i, 'Hammer Price'] = mean\n",
    "\n",
    "\n",
    "# \n",
    "merged_df['Mean Estimation'] = pd.Series(means)\n"
   ]
  },
  {
   "attachments": {},
   "cell_type": "markdown",
   "metadata": {},
   "source": [
    "# 3 - Data Validation"
   ]
  },
  {
   "cell_type": "code",
   "execution_count": 7,
   "metadata": {},
   "outputs": [
    {
     "name": "stdout",
     "output_type": "stream",
     "text": [
      "Normalizing Data...\n"
     ]
    }
   ],
   "source": [
    "print('Normalizing Data...')\n",
    "CntRem = 0\n",
    "for i in range(len(merged_df)):\n",
    "        picture_Path = merged_df.at[i,'Path']\n",
    "        if not os.path.exists(picture_Path):\n",
    "                print(\"Oops! File gone on vacation:\", picture_Path)\n",
    "        # os.remove(merged_df.at[i,'Path'])\n",
    "        # merged_df.drop(merged_df.at[merged_df.index[i]], axis=0)\n",
    "\n",
    "        # print(\"Image\", merged_df.at[i,'ID'],\" to be removed\")\n",
    "\n",
    "# print(\"Total number of files removed\", CntRem)"
   ]
  },
  {
   "attachments": {},
   "cell_type": "markdown",
   "metadata": {},
   "source": [
    "# 4 - Loading Images to dataframe"
   ]
  },
  {
   "cell_type": "code",
   "execution_count": 8,
   "metadata": {},
   "outputs": [],
   "source": [
    "# ##Creating List for Compressed Numpy array data paths\n",
    "import os.path \n",
    "\n",
    "test_df = merged_df\n",
    "\n",
    "\n",
    "images = []\n",
    "id = []\n",
    "IMAGE_RESIZE = (256,256)\n",
    "\n",
    "\n",
    "for i, row in merged_df.iterrows():\n",
    "\n",
    "    ## ASsigning iamge path the picture path\n",
    "    picture_Path = row['Path']\n",
    "    iD = row = row[\"ID\"]\n",
    "\n",
    "    if os.path.exists(picture_Path):\n",
    "        # Reading Image Path, Color Correcting, and then resizing\n",
    "        pic_bgr_arr = cv2.imread(picture_Path)\n",
    "        \n",
    "        if(pic_bgr_arr is not None):\n",
    "            pic_rgb_arr = cv2.cvtColor(pic_bgr_arr, cv2.COLOR_BGR2RGB)\n",
    "            pic_rgb_arr = cv2.resize(pic_rgb_arr, IMAGE_RESIZE)\n",
    "            pic_rgb_arr = pic_rgb_arr / 255.0\n",
    "        else:\n",
    "            print(\"Error with Image\", picture_Path)\n",
    "            # os.remove(picture_Path)\n",
    "            # merged_df.drop(i, inplace=True)\n",
    "\n",
    "        # Append to Image List\n",
    "        images.append(pic_rgb_arr)\n",
    "        id.append(iD)\n",
    "    \n",
    "    else:\n",
    "        continue\n",
    "       \n",
    "    \n",
    "\n",
    "# ZIP contents to load into datafram\n",
    "dfData = list(zip(id, images))\n",
    "images_df = pd.DataFrame(dfData, columns=['ID', 'Image'])\n"
   ]
  },
  {
   "cell_type": "code",
   "execution_count": 9,
   "metadata": {},
   "outputs": [],
   "source": [
    "# // merging with dataframe\n",
    "merged_df = pd.merge(left=merged_df, right=images_df, on='ID', how='inner')\n",
    "\n"
   ]
  },
  {
   "attachments": {},
   "cell_type": "markdown",
   "metadata": {},
   "source": [
    "# 6 - One Hot Encoding"
   ]
  },
  {
   "cell_type": "code",
   "execution_count": 10,
   "metadata": {},
   "outputs": [
    {
     "data": {
      "text/html": [
       "<div>\n",
       "<style scoped>\n",
       "    .dataframe tbody tr th:only-of-type {\n",
       "        vertical-align: middle;\n",
       "    }\n",
       "\n",
       "    .dataframe tbody tr th {\n",
       "        vertical-align: top;\n",
       "    }\n",
       "\n",
       "    .dataframe thead th {\n",
       "        text-align: right;\n",
       "    }\n",
       "</style>\n",
       "<table border=\"1\" class=\"dataframe\">\n",
       "  <thead>\n",
       "    <tr style=\"text-align: right;\">\n",
       "      <th></th>\n",
       "      <th>ID</th>\n",
       "      <th>Path</th>\n",
       "      <th>Artist</th>\n",
       "      <th>Low Estimation Price</th>\n",
       "      <th>High Estimation Price</th>\n",
       "      <th>Hammer Price</th>\n",
       "      <th>Size</th>\n",
       "      <th>Medium</th>\n",
       "      <th>Mean Estimation</th>\n",
       "      <th>Image</th>\n",
       "    </tr>\n",
       "  </thead>\n",
       "  <tbody>\n",
       "    <tr>\n",
       "      <th>0</th>\n",
       "      <td>500.0</td>\n",
       "      <td>E:\\Machine Learning\\Real Data Test\\data\\main\\5...</td>\n",
       "      <td>Ole Kielberg</td>\n",
       "      <td>0.0</td>\n",
       "      <td>420.0</td>\n",
       "      <td>294.0</td>\n",
       "      <td>42cm-59cm(16.54in-23.23in)</td>\n",
       "      <td>Oil</td>\n",
       "      <td>210.0</td>\n",
       "      <td>[[[0.5254901960784314, 0.5058823529411764, 0.4...</td>\n",
       "    </tr>\n",
       "    <tr>\n",
       "      <th>1</th>\n",
       "      <td>0.0</td>\n",
       "      <td>E:\\Machine Learning\\Real Data Test\\data\\main\\0...</td>\n",
       "      <td>Sam Nhlengethwa</td>\n",
       "      <td>216.0</td>\n",
       "      <td>324.0</td>\n",
       "      <td>540.0</td>\n",
       "      <td>30cm-33cm(11.81in-12.99in)</td>\n",
       "      <td>Lithograph</td>\n",
       "      <td>270.0</td>\n",
       "      <td>[[[1.0, 1.0, 1.0], [1.0, 1.0, 1.0], [1.0, 1.0,...</td>\n",
       "    </tr>\n",
       "    <tr>\n",
       "      <th>2</th>\n",
       "      <td>3971.0</td>\n",
       "      <td>E:\\Machine Learning\\Real Data Test\\data\\main\\3...</td>\n",
       "      <td>I. H. Brandt</td>\n",
       "      <td>210.0</td>\n",
       "      <td>280.0</td>\n",
       "      <td>448.0</td>\n",
       "      <td>12cm-17.5cm(4.72in-6.89in)</td>\n",
       "      <td>Oil</td>\n",
       "      <td>245.0</td>\n",
       "      <td>[[[0.7803921568627451, 0.7529411764705882, 0.6...</td>\n",
       "    </tr>\n",
       "    <tr>\n",
       "      <th>3</th>\n",
       "      <td>3283.0</td>\n",
       "      <td>E:\\Machine Learning\\Real Data Test\\data\\main\\3...</td>\n",
       "      <td>Sam Francis</td>\n",
       "      <td>6000.0</td>\n",
       "      <td>8000.0</td>\n",
       "      <td>21250.0</td>\n",
       "      <td>63.2cm-90.5cm(24.88in-35.63in)</td>\n",
       "      <td>Lithograph</td>\n",
       "      <td>7000.0</td>\n",
       "      <td>[[[1.0, 0.9921568627450981, 1.0], [1.0, 0.9882...</td>\n",
       "    </tr>\n",
       "    <tr>\n",
       "      <th>4</th>\n",
       "      <td>3974.0</td>\n",
       "      <td>E:\\Machine Learning\\Real Data Test\\data\\main\\3...</td>\n",
       "      <td>Svend Sinding Christensen</td>\n",
       "      <td>0.0</td>\n",
       "      <td>280.0</td>\n",
       "      <td>280.0</td>\n",
       "      <td>63.5cm-77cm(25in-30.31in)</td>\n",
       "      <td>Oil</td>\n",
       "      <td>140.0</td>\n",
       "      <td>[[[0.807843137254902, 0.8117647058823529, 0.77...</td>\n",
       "    </tr>\n",
       "  </tbody>\n",
       "</table>\n",
       "</div>"
      ],
      "text/plain": [
       "       ID                                               Path  \\\n",
       "0   500.0  E:\\Machine Learning\\Real Data Test\\data\\main\\5...   \n",
       "1     0.0  E:\\Machine Learning\\Real Data Test\\data\\main\\0...   \n",
       "2  3971.0  E:\\Machine Learning\\Real Data Test\\data\\main\\3...   \n",
       "3  3283.0  E:\\Machine Learning\\Real Data Test\\data\\main\\3...   \n",
       "4  3974.0  E:\\Machine Learning\\Real Data Test\\data\\main\\3...   \n",
       "\n",
       "                      Artist  Low Estimation Price  High Estimation Price  \\\n",
       "0               Ole Kielberg                   0.0                  420.0   \n",
       "1            Sam Nhlengethwa                 216.0                  324.0   \n",
       "2               I. H. Brandt                 210.0                  280.0   \n",
       "3                Sam Francis                6000.0                 8000.0   \n",
       "4  Svend Sinding Christensen                   0.0                  280.0   \n",
       "\n",
       "   Hammer Price                            Size      Medium  Mean Estimation  \\\n",
       "0         294.0      42cm-59cm(16.54in-23.23in)         Oil            210.0   \n",
       "1         540.0      30cm-33cm(11.81in-12.99in)  Lithograph            270.0   \n",
       "2         448.0      12cm-17.5cm(4.72in-6.89in)         Oil            245.0   \n",
       "3       21250.0  63.2cm-90.5cm(24.88in-35.63in)  Lithograph           7000.0   \n",
       "4         280.0       63.5cm-77cm(25in-30.31in)         Oil            140.0   \n",
       "\n",
       "                                               Image  \n",
       "0  [[[0.5254901960784314, 0.5058823529411764, 0.4...  \n",
       "1  [[[1.0, 1.0, 1.0], [1.0, 1.0, 1.0], [1.0, 1.0,...  \n",
       "2  [[[0.7803921568627451, 0.7529411764705882, 0.6...  \n",
       "3  [[[1.0, 0.9921568627450981, 1.0], [1.0, 0.9882...  \n",
       "4  [[[0.807843137254902, 0.8117647058823529, 0.77...  "
      ]
     },
     "execution_count": 10,
     "metadata": {},
     "output_type": "execute_result"
    }
   ],
   "source": [
    "merged_df.head()"
   ]
  },
  {
   "cell_type": "code",
   "execution_count": 11,
   "metadata": {},
   "outputs": [
    {
     "data": {
      "text/plain": [
       "<AxesSubplot:>"
      ]
     },
     "execution_count": 11,
     "metadata": {},
     "output_type": "execute_result"
    },
    {
     "data": {
      "image/png": "[encoded data removed]",
      "text/plain": [
       "<Figure size 640x480 with 1 Axes>"
      ]
     },
     "metadata": {},
     "output_type": "display_data"
    }
   ],
   "source": [
    "merged_df['Mean Estimation'].hist()"
   ]
  },
  {
   "cell_type": "code",
   "execution_count": 12,
   "metadata": {},
   "outputs": [
    {
     "data": {
      "text/plain": [
       "<AxesSubplot:>"
      ]
     },
     "execution_count": 12,
     "metadata": {},
     "output_type": "execute_result"
    },
    {
     "data": {
      "image/png": "[encoded data removed]",
      "text/plain": [
       "<Figure size 640x480 with 1 Axes>"
      ]
     },
     "metadata": {},
     "output_type": "display_data"
    }
   ],
   "source": [
    "merged_df['Low Estimation Price'].hist()"
   ]
  },
  {
   "cell_type": "code",
   "execution_count": 13,
   "metadata": {},
   "outputs": [
    {
     "data": {
      "text/plain": [
       "<AxesSubplot:>"
      ]
     },
     "execution_count": 13,
     "metadata": {},
     "output_type": "execute_result"
    },
    {
     "data": {
      "image/png": "[encoded data removed]",
      "text/plain": [
       "<Figure size 640x480 with 1 Axes>"
      ]
     },
     "metadata": {},
     "output_type": "display_data"
    }
   ],
   "source": [
    "merged_df['High Estimation Price'].hist()"
   ]
  },
  {
   "cell_type": "code",
   "execution_count": 14,
   "metadata": {},
   "outputs": [
    {
     "data": {
      "text/plain": [
       "<AxesSubplot:>"
      ]
     },
     "execution_count": 14,
     "metadata": {},
     "output_type": "execute_result"
    },
    {
     "data": {
      "image/png": "[encoded data removed]",
      "text/plain": [
       "<Figure size 640x480 with 1 Axes>"
      ]
     },
     "metadata": {},
     "output_type": "display_data"
    }
   ],
   "source": [
    "merged_df['Hammer Price'].hist()"
   ]
  },
  {
   "cell_type": "code",
   "execution_count": 15,
   "metadata": {},
   "outputs": [],
   "source": [
    "\n",
    "# for i in range(len(merged_df)):\n",
    "#     merged_df.loc[i, 'Mean Estimation'] = np.log(merged_df.at[i, 'Mean Estimation']) ** -1\n",
    "#     merged_df.loc[i, 'Low Estimation Price'] = np.log(merged_df.at[i, 'Low Estimation Price']) ** -1\n",
    "#     merged_df.loc[i, 'High Estimation Price'] = np.log(merged_df.at[i, 'High Estimation Price']) ** -1\n",
    "#     merged_df.loc[i, 'Hammer Price'] = np.log(merged_df.at[i, 'Hammer Price']) ** -1\n",
    "\n",
    "\n",
    "\n",
    "\n",
    "# merged_df.tail()"
   ]
  },
  {
   "cell_type": "code",
   "execution_count": 16,
   "metadata": {},
   "outputs": [
    {
     "data": {
      "text/plain": [
       "<AxesSubplot:>"
      ]
     },
     "execution_count": 16,
     "metadata": {},
     "output_type": "execute_result"
    },
    {
     "data": {
      "image/png": "[encoded data removed]",
      "text/plain": [
       "<Figure size 640x480 with 1 Axes>"
      ]
     },
     "metadata": {},
     "output_type": "display_data"
    }
   ],
   "source": [
    "merged_df['Mean Estimation'].hist()\n"
   ]
  },
  {
   "cell_type": "code",
   "execution_count": 17,
   "metadata": {},
   "outputs": [
    {
     "data": {
      "text/plain": [
       "<AxesSubplot:>"
      ]
     },
     "execution_count": 17,
     "metadata": {},
     "output_type": "execute_result"
    },
    {
     "data": {
      "image/png": "[encoded data removed]",
      "text/plain": [
       "<Figure size 640x480 with 1 Axes>"
      ]
     },
     "metadata": {},
     "output_type": "display_data"
    }
   ],
   "source": [
    "merged_df['Low Estimation Price'].hist()"
   ]
  },
  {
   "cell_type": "code",
   "execution_count": 18,
   "metadata": {},
   "outputs": [
    {
     "data": {
      "text/plain": [
       "<AxesSubplot:>"
      ]
     },
     "execution_count": 18,
     "metadata": {},
     "output_type": "execute_result"
    },
    {
     "data": {
      "image/png": "[encoded data removed]",
      "text/plain": [
       "<Figure size 640x480 with 1 Axes>"
      ]
     },
     "metadata": {},
     "output_type": "display_data"
    }
   ],
   "source": [
    "merged_df['High Estimation Price'].hist()"
   ]
  },
  {
   "cell_type": "code",
   "execution_count": 19,
   "metadata": {},
   "outputs": [
    {
     "data": {
      "text/plain": [
       "<AxesSubplot:>"
      ]
     },
     "execution_count": 19,
     "metadata": {},
     "output_type": "execute_result"
    },
    {
     "data": {
      "image/png": "[encoded data removed]",
      "text/plain": [
       "<Figure size 640x480 with 1 Axes>"
      ]
     },
     "metadata": {},
     "output_type": "display_data"
    }
   ],
   "source": [
    "merged_df['Hammer Price'].hist()"
   ]
  },
  {
   "cell_type": "code",
   "execution_count": 20,
   "metadata": {},
   "outputs": [
    {
     "data": {
      "text/html": [
       "<div>\n",
       "<style scoped>\n",
       "    .dataframe tbody tr th:only-of-type {\n",
       "        vertical-align: middle;\n",
       "    }\n",
       "\n",
       "    .dataframe tbody tr th {\n",
       "        vertical-align: top;\n",
       "    }\n",
       "\n",
       "    .dataframe thead th {\n",
       "        text-align: right;\n",
       "    }\n",
       "</style>\n",
       "<table border=\"1\" class=\"dataframe\">\n",
       "  <thead>\n",
       "    <tr style=\"text-align: right;\">\n",
       "      <th></th>\n",
       "      <th>Mean Estimation</th>\n",
       "      <th>Image</th>\n",
       "    </tr>\n",
       "  </thead>\n",
       "  <tbody>\n",
       "    <tr>\n",
       "      <th>0</th>\n",
       "      <td>210.0</td>\n",
       "      <td>[[[0.5254901960784314, 0.5058823529411764, 0.4...</td>\n",
       "    </tr>\n",
       "    <tr>\n",
       "      <th>1</th>\n",
       "      <td>270.0</td>\n",
       "      <td>[[[1.0, 1.0, 1.0], [1.0, 1.0, 1.0], [1.0, 1.0,...</td>\n",
       "    </tr>\n",
       "    <tr>\n",
       "      <th>2</th>\n",
       "      <td>245.0</td>\n",
       "      <td>[[[0.7803921568627451, 0.7529411764705882, 0.6...</td>\n",
       "    </tr>\n",
       "    <tr>\n",
       "      <th>3</th>\n",
       "      <td>7000.0</td>\n",
       "      <td>[[[1.0, 0.9921568627450981, 1.0], [1.0, 0.9882...</td>\n",
       "    </tr>\n",
       "    <tr>\n",
       "      <th>4</th>\n",
       "      <td>140.0</td>\n",
       "      <td>[[[0.807843137254902, 0.8117647058823529, 0.77...</td>\n",
       "    </tr>\n",
       "  </tbody>\n",
       "</table>\n",
       "</div>"
      ],
      "text/plain": [
       "   Mean Estimation                                              Image\n",
       "0            210.0  [[[0.5254901960784314, 0.5058823529411764, 0.4...\n",
       "1            270.0  [[[1.0, 1.0, 1.0], [1.0, 1.0, 1.0], [1.0, 1.0,...\n",
       "2            245.0  [[[0.7803921568627451, 0.7529411764705882, 0.6...\n",
       "3           7000.0  [[[1.0, 0.9921568627450981, 1.0], [1.0, 0.9882...\n",
       "4            140.0  [[[0.807843137254902, 0.8117647058823529, 0.77..."
      ]
     },
     "execution_count": 20,
     "metadata": {},
     "output_type": "execute_result"
    }
   ],
   "source": [
    "merged_df.drop(['Low Estimation Price', 'High Estimation Price', 'Hammer Price', 'Size', 'Path', 'ID', 'Medium', \"Artist\" ],inplace=True, axis=1)\n",
    "merged_df.head()"
   ]
  },
  {
   "cell_type": "code",
   "execution_count": 21,
   "metadata": {},
   "outputs": [
    {
     "data": {
      "text/plain": [
       "(3500, 500, 116)"
      ]
     },
     "execution_count": 21,
     "metadata": {},
     "output_type": "execute_result"
    }
   ],
   "source": [
    "\n",
    "shuffled_df = merged_df.sample(frac=1)\n",
    "train_df, val_df, test_df = shuffled_df[:3500], shuffled_df[3500:4000], shuffled_df[4000:]\n",
    "\n",
    "len(train_df), len(val_df), len(test_df)\n"
   ]
  },
  {
   "cell_type": "code",
   "execution_count": 22,
   "metadata": {},
   "outputs": [
    {
     "data": {
      "text/html": [
       "<div>\n",
       "<style scoped>\n",
       "    .dataframe tbody tr th:only-of-type {\n",
       "        vertical-align: middle;\n",
       "    }\n",
       "\n",
       "    .dataframe tbody tr th {\n",
       "        vertical-align: top;\n",
       "    }\n",
       "\n",
       "    .dataframe thead th {\n",
       "        text-align: right;\n",
       "    }\n",
       "</style>\n",
       "<table border=\"1\" class=\"dataframe\">\n",
       "  <thead>\n",
       "    <tr style=\"text-align: right;\">\n",
       "      <th></th>\n",
       "      <th>Mean Estimation</th>\n",
       "      <th>Image</th>\n",
       "    </tr>\n",
       "  </thead>\n",
       "  <tbody>\n",
       "    <tr>\n",
       "      <th>3698</th>\n",
       "      <td>5670.0</td>\n",
       "      <td>[[[0.25882352941176473, 0.2196078431372549, 0....</td>\n",
       "    </tr>\n",
       "    <tr>\n",
       "      <th>1398</th>\n",
       "      <td>1350.0</td>\n",
       "      <td>[[[1.0, 1.0, 1.0], [1.0, 1.0, 1.0], [1.0, 1.0,...</td>\n",
       "    </tr>\n",
       "    <tr>\n",
       "      <th>1976</th>\n",
       "      <td>12500.0</td>\n",
       "      <td>[[[1.0, 1.0, 1.0], [1.0, 1.0, 1.0], [1.0, 1.0,...</td>\n",
       "    </tr>\n",
       "    <tr>\n",
       "      <th>1684</th>\n",
       "      <td>280.0</td>\n",
       "      <td>[[[0.7333333333333333, 0.6313725490196078, 0.2...</td>\n",
       "    </tr>\n",
       "    <tr>\n",
       "      <th>1335</th>\n",
       "      <td>459.0</td>\n",
       "      <td>[[[1.0, 1.0, 1.0], [1.0, 1.0, 1.0], [1.0, 1.0,...</td>\n",
       "    </tr>\n",
       "  </tbody>\n",
       "</table>\n",
       "</div>"
      ],
      "text/plain": [
       "      Mean Estimation                                              Image\n",
       "3698           5670.0  [[[0.25882352941176473, 0.2196078431372549, 0....\n",
       "1398           1350.0  [[[1.0, 1.0, 1.0], [1.0, 1.0, 1.0], [1.0, 1.0,...\n",
       "1976          12500.0  [[[1.0, 1.0, 1.0], [1.0, 1.0, 1.0], [1.0, 1.0,...\n",
       "1684            280.0  [[[0.7333333333333333, 0.6313725490196078, 0.2...\n",
       "1335            459.0  [[[1.0, 1.0, 1.0], [1.0, 1.0, 1.0], [1.0, 1.0,..."
      ]
     },
     "execution_count": 22,
     "metadata": {},
     "output_type": "execute_result"
    }
   ],
   "source": [
    "train_df.head()"
   ]
  },
  {
   "cell_type": "code",
   "execution_count": 23,
   "metadata": {},
   "outputs": [],
   "source": [
    "\n",
    "\n",
    "def get_X_y(df):\n",
    "\n",
    "    dfArr = np.array(df)\n",
    "\n",
    "    x_pic = []\n",
    "    y_medium = []\n",
    "\n",
    "    for i in range(len(df)): \n",
    "\n",
    "        pic = dfArr[i, 1]\n",
    "        x_pic.append(pic)\n",
    "\n",
    "        medium = dfArr[i, 0]\n",
    "        y_medium.append(medium)\n",
    "\n",
    "    X_pic = np.asarray(x_pic)\n",
    "    y_medium = np.asarray(y_medium)\n",
    "\n",
    "\n",
    "    return X_pic, y_medium \n",
    "\n"
   ]
  },
  {
   "cell_type": "code",
   "execution_count": 24,
   "metadata": {},
   "outputs": [],
   "source": [
    "X_train_pic, y_train = get_X_y(train_df)\n",
    "\n",
    "X_val_pic,  y_val = get_X_y(val_df)\n",
    "\n",
    "X_test_pic, y_test = get_X_y(test_df)"
   ]
  },
  {
   "cell_type": "code",
   "execution_count": 25,
   "metadata": {},
   "outputs": [],
   "source": [
    "# # Y_train_art[0]\n",
    "# X_train_picTensor = tf.convert_to_tensor(X_train_pic, dtype=\"float32\")\n",
    "# Y_trainEstTensor = tf.convert_to_tensor(Y_train_est, dtype=\"float32\")\n",
    "\n",
    "# X_val_picTensor = tf.convert_to_tensor(X_val_pic, dtype=\"float32\")\n",
    "# Y_valEstTensor = tf.convert_to_tensor(Y_val_est, dtype=\"float32\")\n",
    "\n",
    "# valData = [X_val_picTensor, Y_valEstTensor]\n"
   ]
  },
  {
   "attachments": {},
   "cell_type": "markdown",
   "metadata": {},
   "source": [
    "# 5 - Modeling"
   ]
  },
  {
   "cell_type": "code",
   "execution_count": 26,
   "metadata": {},
   "outputs": [],
   "source": [
    "from tensorflow.keras.layers import Dense, Flatten, Conv2D, MaxPooling2D\n",
    "from tensorflow.keras.layers import BatchNormalization\n",
    "from tensorflow.keras.callbacks import ModelCheckpoint\n",
    "from tensorflow.keras.models import Model, Sequential\n",
    "from tensorflow.keras.utils import to_categorical\n",
    "\n",
    "from tensorflow.keras.optimizers import  Adam\n",
    "\n",
    "import seaborn as sns\n",
    "import os"
   ]
  },
  {
   "cell_type": "code",
   "execution_count": 27,
   "metadata": {},
   "outputs": [],
   "source": [
    "\n",
    "# y_train_one_hot = to_categorical(y_train)\n",
    "# y_val_one_hot = to_categorical(y_val)\n",
    "# y_test_one_hot = to_categorical(y_test)\n",
    "\n",
    "#############################\n",
    "\n",
    "activation = 'relu'\n",
    "\n",
    "feature_extractor = Sequential()\n",
    "feature_extractor.add(Conv2D(32, 3, activation = activation, padding = 'same', input_shape = (256, 256, 3)))\n",
    "feature_extractor.add(BatchNormalization())\n",
    "\n",
    "# feature_extractor.add(Conv2D(32, 3, activation = activation, padding = 'same', kernel_initializer = 'he_uniform'))\n",
    "# feature_extractor.add(BatchNormalization())\n",
    "# feature_extractor.add(MaxPooling2D())\n",
    "\n",
    "# feature_extractor.add(Conv2D(64, 3, activation = activation, padding = 'same', kernel_initializer = 'he_uniform'))\n",
    "# feature_extractor.add(BatchNormalization())\n",
    "\n",
    "feature_extractor.add(Conv2D(64, 3, activation = activation, padding = 'same', kernel_initializer = 'he_uniform'))\n",
    "feature_extractor.add(BatchNormalization())\n",
    "feature_extractor.add(MaxPooling2D())\n",
    "\n",
    "feature_extractor.add(Flatten())\n",
    "\n",
    "#Add layers for deep learning prediction\n",
    "x = feature_extractor.output  \n",
    "x = Dense(128, activation = activation, kernel_initializer = 'he_uniform')(x)\n",
    "prediction_layer = Dense(1, activation = 'relu')(x)"
   ]
  },
  {
   "cell_type": "code",
   "execution_count": 28,
   "metadata": {},
   "outputs": [
    {
     "data": {
      "text/plain": [
       "(3500,)"
      ]
     },
     "execution_count": 28,
     "metadata": {},
     "output_type": "execute_result"
    }
   ],
   "source": [
    "y_train.shape"
   ]
  },
  {
   "cell_type": "code",
   "execution_count": 29,
   "metadata": {},
   "outputs": [
    {
     "name": "stdout",
     "output_type": "stream",
     "text": [
      "Model: \"model\"\n",
      "_________________________________________________________________\n",
      " Layer (type)                Output Shape              Param #   \n",
      "=================================================================\n",
      " conv2d_input (InputLayer)   [(None, 256, 256, 3)]     0         \n",
      "                                                                 \n",
      " conv2d (Conv2D)             (None, 256, 256, 32)      896       \n",
      "                                                                 \n",
      " batch_normalization (BatchN  (None, 256, 256, 32)     128       \n",
      " ormalization)                                                   \n",
      "                                                                 \n",
      " conv2d_1 (Conv2D)           (None, 256, 256, 32)      9248      \n",
      "                                                                 \n",
      " batch_normalization_1 (Batc  (None, 256, 256, 32)     128       \n",
      " hNormalization)                                                 \n",
      "                                                                 \n",
      " max_pooling2d (MaxPooling2D  (None, 128, 128, 32)     0         \n",
      " )                                                               \n",
      "                                                                 \n",
      " conv2d_2 (Conv2D)           (None, 128, 128, 64)      18496     \n",
      "                                                                 \n",
      " batch_normalization_2 (Batc  (None, 128, 128, 64)     256       \n",
      " hNormalization)                                                 \n",
      "                                                                 \n",
      " conv2d_3 (Conv2D)           (None, 128, 128, 64)      36928     \n",
      "                                                                 \n",
      " batch_normalization_3 (Batc  (None, 128, 128, 64)     256       \n",
      " hNormalization)                                                 \n",
      "                                                                 \n",
      " max_pooling2d_1 (MaxPooling  (None, 64, 64, 64)       0         \n",
      " 2D)                                                             \n",
      "                                                                 \n",
      " flatten (Flatten)           (None, 262144)            0         \n",
      "                                                                 \n",
      " dense (Dense)               (None, 128)               33554560  \n",
      "                                                                 \n",
      " dense_1 (Dense)             (None, 1)                 129       \n",
      "                                                                 \n",
      "=================================================================\n",
      "Total params: 33,621,025\n",
      "Trainable params: 33,620,641\n",
      "Non-trainable params: 384\n",
      "_________________________________________________________________\n",
      "None\n"
     ]
    }
   ],
   "source": [
    "# Make a new model combining both feature extractor and x\n",
    "# optimizer = Adam(learning_rate=0.001)\n",
    "cnn_model = Model(inputs=feature_extractor.input, outputs=prediction_layer)\n",
    "cnn_model.compile(optimizer='sgd',loss =\"mean_squared_logarithmic_error\" , metrics = [ \"accuracy\"])\n",
    "print(cnn_model.summary()) "
   ]
  },
  {
   "cell_type": "code",
   "execution_count": 30,
   "metadata": {},
   "outputs": [],
   "source": [
    "# os.listdir(\"e:\\\\Machine Learning\\\\Real Data Test\\\\logs\\\\VisualPlot\")\n",
    "\n",
    "savePlots = \"e:\\\\Machine Learning\\\\Real Data Test\\\\logs\\\\VisualPlot\\\\\"\n",
    "saveModel = \"e:\\\\Machine Learning\\\\Real Data Test\\\\savedModels\\\\\"\n",
    "\n",
    "# os.getcwd()"
   ]
  },
  {
   "cell_type": "code",
   "execution_count": 31,
   "metadata": {},
   "outputs": [],
   "source": [
    "date = datetime.today().strftime('%b-%d-%Y-%H-%M')\n",
    "\n",
    "figPath = savePlots + 'FEE1-'+date "
   ]
  },
  {
   "cell_type": "code",
   "execution_count": 32,
   "metadata": {},
   "outputs": [],
   "source": [
    "modelSavePath = saveModel + \"FEE1-\" + date +'\\\\'+'FEE1.epoch{epoch:02d}-loss{val_loss:.2f}.hdf5'"
   ]
  },
  {
   "cell_type": "code",
   "execution_count": 33,
   "metadata": {},
   "outputs": [],
   "source": [
    "checkpoint = ModelCheckpoint(monitor='val_accuracy', filepath=modelSavePath, save_best_only=True )"
   ]
  },
  {
   "cell_type": "code",
   "execution_count": 34,
   "metadata": {},
   "outputs": [
    {
     "name": "stdout",
     "output_type": "stream",
     "text": [
      "e:\\Machine Learning\\Real Data Test\\savedModels\\FEE1-Apr-22-2023-16-37\\FEE1.epoch{epoch:02d}-loss{val_loss:.2f}.hdf5\n"
     ]
    }
   ],
   "source": [
    "print(modelSavePath)"
   ]
  },
  {
   "cell_type": "code",
   "execution_count": 35,
   "metadata": {},
   "outputs": [],
   "source": [
    "callbacks = [TrainingMonitor(figPath), checkpoint]"
   ]
  },
  {
   "cell_type": "code",
   "execution_count": 36,
   "metadata": {},
   "outputs": [
    {
     "name": "stdout",
     "output_type": "stream",
     "text": [
      "Epoch 1/7\n",
      "219/219 [==============================] - 623s 3s/step - loss: 3.4225 - accuracy: 0.0000e+00 - val_loss: 4.6566 - val_accuracy: 0.0000e+00\n",
      "Epoch 2/7\n",
      "219/219 [==============================] - ETA: 0s - loss: 2.5006 - accuracy: 0.0000e+00"
     ]
    },
    {
     "ename": "NameError",
     "evalue": "name 'ax2' is not defined",
     "output_type": "error",
     "traceback": [
      "\u001b[1;31m---------------------------------------------------------------------------\u001b[0m",
      "\u001b[1;31mNameError\u001b[0m                                 Traceback (most recent call last)",
      "\u001b[1;32m~\\AppData\\Local\\Temp\\ipykernel_16792\\4047679987.py\u001b[0m in \u001b[0;36m<module>\u001b[1;34m\u001b[0m\n\u001b[0;32m      1\u001b[0m \u001b[1;31m#Train the CNN model\u001b[0m\u001b[1;33m\u001b[0m\u001b[1;33m\u001b[0m\u001b[0m\n\u001b[1;32m----> 2\u001b[1;33m \u001b[0mhistory\u001b[0m \u001b[1;33m=\u001b[0m \u001b[0mcnn_model\u001b[0m\u001b[1;33m.\u001b[0m\u001b[0mfit\u001b[0m\u001b[1;33m(\u001b[0m\u001b[0mx\u001b[0m\u001b[1;33m=\u001b[0m\u001b[0mX_train_pic\u001b[0m\u001b[1;33m,\u001b[0m \u001b[0my\u001b[0m\u001b[1;33m=\u001b[0m\u001b[0my_train\u001b[0m\u001b[1;33m,\u001b[0m \u001b[0mbatch_size\u001b[0m\u001b[1;33m=\u001b[0m\u001b[1;36m16\u001b[0m\u001b[1;33m,\u001b[0m \u001b[0mepochs\u001b[0m\u001b[1;33m=\u001b[0m\u001b[1;36m7\u001b[0m\u001b[1;33m,\u001b[0m \u001b[0mvalidation_data\u001b[0m \u001b[1;33m=\u001b[0m \u001b[1;33m(\u001b[0m\u001b[0mX_val_pic\u001b[0m\u001b[1;33m,\u001b[0m \u001b[0my_val\u001b[0m\u001b[1;33m)\u001b[0m\u001b[1;33m,\u001b[0m \u001b[0mcallbacks\u001b[0m\u001b[1;33m=\u001b[0m\u001b[0mcallbacks\u001b[0m\u001b[1;33m)\u001b[0m\u001b[1;33m\u001b[0m\u001b[1;33m\u001b[0m\u001b[0m\n\u001b[0m",
      "\u001b[1;32mc:\\Users\\Tober\\anaconda3\\lib\\site-packages\\keras\\utils\\traceback_utils.py\u001b[0m in \u001b[0;36merror_handler\u001b[1;34m(*args, **kwargs)\u001b[0m\n\u001b[0;32m     68\u001b[0m             \u001b[1;31m# To get the full stack trace, call:\u001b[0m\u001b[1;33m\u001b[0m\u001b[1;33m\u001b[0m\u001b[0m\n\u001b[0;32m     69\u001b[0m             \u001b[1;31m# `tf.debugging.disable_traceback_filtering()`\u001b[0m\u001b[1;33m\u001b[0m\u001b[1;33m\u001b[0m\u001b[0m\n\u001b[1;32m---> 70\u001b[1;33m             \u001b[1;32mraise\u001b[0m \u001b[0me\u001b[0m\u001b[1;33m.\u001b[0m\u001b[0mwith_traceback\u001b[0m\u001b[1;33m(\u001b[0m\u001b[0mfiltered_tb\u001b[0m\u001b[1;33m)\u001b[0m \u001b[1;32mfrom\u001b[0m \u001b[1;32mNone\u001b[0m\u001b[1;33m\u001b[0m\u001b[1;33m\u001b[0m\u001b[0m\n\u001b[0m\u001b[0;32m     71\u001b[0m         \u001b[1;32mfinally\u001b[0m\u001b[1;33m:\u001b[0m\u001b[1;33m\u001b[0m\u001b[1;33m\u001b[0m\u001b[0m\n\u001b[0;32m     72\u001b[0m             \u001b[1;32mdel\u001b[0m \u001b[0mfiltered_tb\u001b[0m\u001b[1;33m\u001b[0m\u001b[1;33m\u001b[0m\u001b[0m\n",
      "\u001b[1;32me:\\Machine Learning\\Real Data Test\\featureExtraction\\trainingmonitor.py\u001b[0m in \u001b[0;36mon_epoch_end\u001b[1;34m(self, epoch, logs)\u001b[0m\n\u001b[0;32m     62\u001b[0m \u001b[1;33m\u001b[0m\u001b[0m\n\u001b[0;32m     63\u001b[0m                         \u001b[1;31m# ax2 = ax1.twinx()\u001b[0m\u001b[1;33m\u001b[0m\u001b[1;33m\u001b[0m\u001b[0m\n\u001b[1;32m---> 64\u001b[1;33m                         \u001b[0max2\u001b[0m\u001b[1;33m.\u001b[0m\u001b[0mplot\u001b[0m\u001b[1;33m(\u001b[0m\u001b[0mN\u001b[0m\u001b[1;33m,\u001b[0m \u001b[0mself\u001b[0m\u001b[1;33m.\u001b[0m\u001b[0mH\u001b[0m\u001b[1;33m[\u001b[0m\u001b[1;34m\"accuracy\"\u001b[0m\u001b[1;33m]\u001b[0m\u001b[1;33m,\u001b[0m \u001b[0mlabel\u001b[0m\u001b[1;33m=\u001b[0m\u001b[1;34m\"train_acc\"\u001b[0m\u001b[1;33m,\u001b[0m \u001b[0mcolor\u001b[0m \u001b[1;33m=\u001b[0m \u001b[1;34m\"g\"\u001b[0m\u001b[1;33m)\u001b[0m\u001b[1;33m\u001b[0m\u001b[1;33m\u001b[0m\u001b[0m\n\u001b[0m\u001b[0;32m     65\u001b[0m                         \u001b[0max2\u001b[0m\u001b[1;33m.\u001b[0m\u001b[0mplot\u001b[0m\u001b[1;33m(\u001b[0m\u001b[0mN\u001b[0m\u001b[1;33m,\u001b[0m \u001b[0mself\u001b[0m\u001b[1;33m.\u001b[0m\u001b[0mH\u001b[0m\u001b[1;33m[\u001b[0m\u001b[1;34m\"val_accuracy\"\u001b[0m\u001b[1;33m]\u001b[0m\u001b[1;33m,\u001b[0m \u001b[0mlabel\u001b[0m\u001b[1;33m=\u001b[0m\u001b[1;34m\"val_acc\"\u001b[0m\u001b[1;33m,\u001b[0m \u001b[0mcolor\u001b[0m \u001b[1;33m=\u001b[0m \u001b[1;34m\"b\"\u001b[0m\u001b[1;33m)\u001b[0m\u001b[1;33m\u001b[0m\u001b[1;33m\u001b[0m\u001b[0m\n\u001b[0;32m     66\u001b[0m                         \u001b[1;31m# ax2.set_ylabel(\"Accuracy\")\u001b[0m\u001b[1;33m\u001b[0m\u001b[1;33m\u001b[0m\u001b[0m\n",
      "\u001b[1;31mNameError\u001b[0m: name 'ax2' is not defined"
     ]
    },
    {
     "data": {
      "image/png": "[encoded data removed]",
      "text/plain": [
       "<Figure size 640x480 with 1 Axes>"
      ]
     },
     "metadata": {},
     "output_type": "display_data"
    }
   ],
   "source": [
    "#Train the CNN model\n",
    "history = cnn_model.fit(x=X_train_pic, y=y_train, batch_size=16, epochs=7, validation_data = (X_val_pic, y_val), callbacks=callbacks)"
   ]
  },
  {
   "cell_type": "code",
   "execution_count": null,
   "metadata": {},
   "outputs": [],
   "source": []
  },
  {
   "cell_type": "code",
   "execution_count": null,
   "metadata": {},
   "outputs": [],
   "source": [
    "#plot the training and validation accuracy and loss at each epoch\n",
    "loss = history.history['loss']\n",
    "val_loss = history.history['val_loss']\n",
    "epochs = range(1, len(loss) + 1)\n",
    "plt.plot(epochs, loss, 'y', label='Training loss')\n",
    "plt.plot(epochs, val_loss, 'r', label='Validation loss')\n",
    "plt.title('Training and validation loss')\n",
    "plt.xlabel('Epochs')\n",
    "plt.ylabel('Loss')\n",
    "plt.legend()\n",
    "plt.show()"
   ]
  },
  {
   "cell_type": "code",
   "execution_count": null,
   "metadata": {},
   "outputs": [],
   "source": [
    "acc = history.history['accuracy']\n",
    "val_acc = history.history['val_accuracy']\n",
    "plt.plot(epochs, acc, 'y', label='Training acc')\n",
    "plt.plot(epochs, val_acc, 'r', label='Validation acc')\n",
    "plt.title('Training and validation accuracy')\n",
    "plt.xlabel('Epochs')\n",
    "plt.ylabel('Accuracy')\n",
    "plt.legend()\n",
    "plt.show()"
   ]
  },
  {
   "cell_type": "code",
   "execution_count": null,
   "metadata": {},
   "outputs": [],
   "source": [
    "prediction_NN = cnn_model.predict(X_test_pic)"
   ]
  },
  {
   "cell_type": "code",
   "execution_count": null,
   "metadata": {},
   "outputs": [],
   "source": [
    "prediction_NN.shape"
   ]
  },
  {
   "cell_type": "code",
   "execution_count": null,
   "metadata": {},
   "outputs": [],
   "source": [
    "# prediction_NN = np.argmax(prediction_NN, axis=-1)\n",
    "y_test = encoder.inverse_transform(y_test)\n",
    "prediction_NN = encoder.inverse_transform(prediction_NN)"
   ]
  },
  {
   "cell_type": "code",
   "execution_count": null,
   "metadata": {},
   "outputs": [],
   "source": [
    "y_test.shape"
   ]
  },
  {
   "cell_type": "code",
   "execution_count": null,
   "metadata": {},
   "outputs": [],
   "source": [
    "prediction_NN.shape"
   ]
  },
  {
   "cell_type": "code",
   "execution_count": null,
   "metadata": {},
   "outputs": [],
   "source": [
    "results = list(zip(y_test, prediction_NN))\n",
    "results_df = pd.DataFrame(results, columns=['Actual', 'Predicted'])"
   ]
  },
  {
   "cell_type": "code",
   "execution_count": null,
   "metadata": {},
   "outputs": [],
   "source": [
    "results_df"
   ]
  },
  {
   "cell_type": "code",
   "execution_count": null,
   "metadata": {},
   "outputs": [],
   "source": [
    "# from sklearn.metrics import confusion_matrix\n",
    "# cm = confusion_matrix(y_test, prediction_NN)\n",
    "# print(cm)\n",
    "# sns.heatmap(cm, annot=True)\n"
   ]
  },
  {
   "cell_type": "code",
   "execution_count": null,
   "metadata": {},
   "outputs": [],
   "source": [
    "n = 56\n",
    "\n",
    "img = X_test_pic[n]\n",
    "plt.imshow(img)\n",
    "input_img = np.expand_dims(img, axis=0) #Expand dims so the input is (num images, x, y, c)\n",
    "prediction = cnn_model.predict(input_img).flatten()  #argmax to convert categorical back to original\n",
    "prediction = encoder.inverse_transform([prediction])  #Reverse the label encoder to original name\n",
    "print(\"The prediction for this image is: \", prediction)\n",
    "print(\"The actual label for this image is: \", y_test[n])"
   ]
  },
  {
   "attachments": {},
   "cell_type": "markdown",
   "metadata": {},
   "source": [
    "# 7 - Using Random Forest for Classification"
   ]
  },
  {
   "cell_type": "code",
   "execution_count": null,
   "metadata": {},
   "outputs": [],
   "source": [
    "#Now, let us use features from convolutional network for RF\n",
    "X_for_RF = feature_extractor.predict(X_train_pic) #This is out X input to RF\n",
    "\n",
    "#RANDOM FOREST\n",
    "from sklearn.ensemble import RandomForestClassifier\n",
    "RF_model = RandomForestClassifier(n_estimators = 50, random_state = 42)\n",
    "\n",
    "y_train['OneHot'] = encoder.inverse_transform(y_train['OneHot'])\n",
    "\n",
    "y_train['OneHot'] = le.fit_transform(merged_df['OneHot'])\n",
    "# Train the model on training data\n",
    "RF_model.fit(X_for_RF, y_train) #For sklearn no one hot encoding\n",
    "\n"
   ]
  },
  {
   "cell_type": "code",
   "execution_count": null,
   "metadata": {},
   "outputs": [],
   "source": [
    "#Send test data through same feature extractor process\n",
    "X_test_feature = feature_extractor.predict(X_test_pic)\n",
    "#Now predict using the trained RF model. \n",
    "prediction_RF = RF_model.predict(X_test_feature)\n",
    "#Inverse le transform to get original label back. \n",
    "prediction_RF = le.inverse_transform(prediction_RF)"
   ]
  },
  {
   "cell_type": "code",
   "execution_count": null,
   "metadata": {},
   "outputs": [],
   "source": [
    "from sklearn import metrics\n",
    "print (\"Accuracy = \", metrics.accuracy_score(test_labels, prediction_RF))\n",
    "\n",
    "#Confusion Matrix - verify accuracy of each class\n",
    "cm = confusion_matrix(test_labels, prediction_RF)\n",
    "#print(cm)\n",
    "sns.heatmap(cm, annot=True)\n",
    "\n",
    "#Check results on a few select images\n",
    "#n=5 #dog park. RF works better than CNN\n",
    "n=9 #Select the index of image to be loaded for testing\n",
    "img = x_test[n]\n",
    "plt.imshow(img)\n",
    "input_img = np.expand_dims(img, axis=0) #Expand dims so the input is (num images, x, y, c)\n",
    "input_img_features=feature_extractor.predict(input_img)\n",
    "prediction_RF = RF_model.predict(input_img_features)[0] \n",
    "prediction_RF = le.inverse_transform([prediction_RF])  #Reverse the label encoder to original name\n",
    "print(\"The prediction for this image is: \", prediction_RF)\n",
    "print(\"The actual label for this image is: \", test_labels[n])"
   ]
  }
 ],
 "metadata": {
  "kernelspec": {
   "display_name": "base",
   "language": "python",
   "name": "python3"
  },
  "language_info": {
   "codemirror_mode": {
    "name": "ipython",
    "version": 3
   },
   "file_extension": ".py",
   "mimetype": "text/x-python",
   "name": "python",
   "nbconvert_exporter": "python",
   "pygments_lexer": "ipython3",
   "version": "3.9.13"
  },
  "orig_nbformat": 4
 },
 "nbformat": 4,
 "nbformat_minor": 2
}
